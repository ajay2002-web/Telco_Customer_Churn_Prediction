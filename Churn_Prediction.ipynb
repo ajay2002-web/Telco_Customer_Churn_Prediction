{
 "cells": [
  {
   "cell_type": "markdown",
   "metadata": {
    "id": "YIYUIgKWUPmh"
   },
   "source": [
    "# Customer Churn Prediction\n",
    "\n",
    "## 📖 Overview\n",
    "\n",
    "This project aims to develop a predictive model for customer churn in a business or service. Customer churn, also known as customer attrition, occurs when customers cease their relationship with a company, often by cancelling their subscription or stopping their purchases. Predicting and preventing customer churn is crucial for businesses as it can significantly impact revenue and profitability.\n",
    "\n",
    "## 🥅 Objectives\n",
    "\n",
    "The main objectives of this project are as follows:\n",
    "\n",
    "- Build a machine learning model that can accurately predict customer churn based on historical data and customer attributes.\n",
    "- Identify key factors and variables that contribute to customer churn, enabling the company to take proactive measures to retain customers.\n",
    "- Develop actionable insights and strategies to reduce churn rates and improve customer retention.\n",
    "\n",
    "## 📑 Data\n",
    "[Data Link](https://www.kaggle.com/datasets/blastchar/telco-customer-churn?source=post_page-----90744a8df97d--------------------------------)  \n",
    "\n",
    "The data set includes information about:\n",
    "\n",
    "- Customers who left within the last month – the column       is called Churn\n",
    "- Services that each customer has signed up for – phone,\n",
    "  multiple lines, internet, online security, online backup, device protection, tech support, and streaming TV and movies\n",
    "- Customer account information – how long they’ve been a\n",
    "  customer, contract, payment method, paperless billing, monthly charges, and total charges\n",
    "- Demographic info about customers – gender, age range, and\n",
    "  if they have partners and dependents\n",
    "\n",
    "## ⏬ Methodology\n",
    "\n",
    "The project will follow these steps:\n",
    "\n",
    "1. Data Reading\n",
    "2. Exploratory Data Analysis and Data Cleaning\n",
    "3. Data Visualization\n",
    "4. Feature Importance\n",
    "5. Feature Engineering\n",
    "6. Setting a baseline\n",
    "7. Splitting the data in training and testing sets\n",
    "8. Training Multiple Models\n",
    "9. Algorithm selected: Gradient Boosting and Logistic Regression\n",
    "10. Hyperparameter tuning\n",
    "11. Drawing conclusions — Summary\n",
    "\n",
    "## ℹ Data Dictionary  \n",
    "There are 20 independent and 1 dependent variable in the data.  \n",
    "- `gender`: Whether the client is a female or a male (Female, Male).  \n",
    "- `SeniorCitizen`: Whether the client is a senior citizen or not ( 0, 1).  \n",
    "- `Partner`: Whether the client has a partner or not (Yes, No).\n",
    "Dependents: Whether the client has dependents or not (Yes, No).  \n",
    "- `Dependents`: Whether the client has dependents or not (Yes, No).  \n",
    "- `tenure`: Number of months the customer has stayed with the company (Multiple different numeric values).  \n",
    "- `Contract`: Indicates the customer’s current contract type (Month-to-Month, One year, Two year).  \n",
    "- `PaperlessBilling`: Whether the client has paperless billing or not (Yes, No).  \n",
    "- `PaymentMethod`: The customer’s payment method (Electronic check, Mailed check, Bank transfer (automatic), Credit Card (automatic)).  \n",
    "- `MontlyCharges`: The amount charged to the customer monthly (Multiple different numeric values).  \n",
    "- `TotalCharges`: The total amount charged to the customer (Multiple different numeric values).  \n",
    "- `PhoneService`: Whether the client has a phone service or not (Yes, No).  \n",
    "- `MultipleLines`: Whether the client has multiple lines or not (No phone service, No, Yes).  \n",
    "- `InternetServices`: Whether the client is subscribed to Internet service with the company (DSL, Fiber optic, No)  \n",
    "- `OnlineSecurity`: Whether the client has online security or not (No internet service, No, Yes).  \n",
    "- `OnlineBackup`: Whether the client has online backup or not (No internet service, No, Yes).  \n",
    "- `DeviceProtection`: Whether the client has device protection or not (No internet service, No, Yes).  \n",
    "- `TechSupport`: Whether the client has tech support or not (No internet service, No, Yes).  \n",
    "- `StreamingTV`: Whether the client has streaming TV or not (No internet service, No, Yes).  \n",
    "- `StreamingMovies`: Whether the client has streaming movies or not (No internet service, No, Yes).\n",
    "\n",
    "\n",
    "\n"
   ]
  },
  {
   "cell_type": "markdown",
   "metadata": {
    "id": "ao7ZVHrIRSB7"
   },
   "source": [
    "## Data Loading\n",
    "The first step of the analysis consists of reading and storing the data in a Pandas data frame using the `pandas.read_csv` function."
   ]
  },
  {
   "cell_type": "code",
   "execution_count": null,
   "metadata": {
    "colab": {
     "base_uri": "https://localhost:8080/",
     "height": 313
    },
    "id": "qSdHEsfBUDSu",
    "outputId": "2d56a69f-9f1c-49af-9150-b7137c400079"
   },
   "outputs": [
    {
     "data": {
      "text/html": [
       "\n",
       "  <div id=\"df-aa3f40b1-389c-4027-a955-6dee8327da76\" class=\"colab-df-container\">\n",
       "    <div>\n",
       "<style scoped>\n",
       "    .dataframe tbody tr th:only-of-type {\n",
       "        vertical-align: middle;\n",
       "    }\n",
       "\n",
       "    .dataframe tbody tr th {\n",
       "        vertical-align: top;\n",
       "    }\n",
       "\n",
       "    .dataframe thead th {\n",
       "        text-align: right;\n",
       "    }\n",
       "</style>\n",
       "<table border=\"1\" class=\"dataframe\">\n",
       "  <thead>\n",
       "    <tr style=\"text-align: right;\">\n",
       "      <th></th>\n",
       "      <th>customerID</th>\n",
       "      <th>gender</th>\n",
       "      <th>SeniorCitizen</th>\n",
       "      <th>Partner</th>\n",
       "      <th>Dependents</th>\n",
       "      <th>tenure</th>\n",
       "      <th>PhoneService</th>\n",
       "      <th>MultipleLines</th>\n",
       "      <th>InternetService</th>\n",
       "      <th>OnlineSecurity</th>\n",
       "      <th>OnlineBackup</th>\n",
       "      <th>DeviceProtection</th>\n",
       "      <th>TechSupport</th>\n",
       "      <th>StreamingTV</th>\n",
       "      <th>StreamingMovies</th>\n",
       "      <th>Contract</th>\n",
       "      <th>PaperlessBilling</th>\n",
       "      <th>PaymentMethod</th>\n",
       "      <th>MonthlyCharges</th>\n",
       "      <th>TotalCharges</th>\n",
       "      <th>Churn</th>\n",
       "    </tr>\n",
       "  </thead>\n",
       "  <tbody>\n",
       "    <tr>\n",
       "      <th>0</th>\n",
       "      <td>7590-VHVEG</td>\n",
       "      <td>Female</td>\n",
       "      <td>0</td>\n",
       "      <td>Yes</td>\n",
       "      <td>No</td>\n",
       "      <td>1</td>\n",
       "      <td>No</td>\n",
       "      <td>No phone service</td>\n",
       "      <td>DSL</td>\n",
       "      <td>No</td>\n",
       "      <td>Yes</td>\n",
       "      <td>No</td>\n",
       "      <td>No</td>\n",
       "      <td>No</td>\n",
       "      <td>No</td>\n",
       "      <td>Month-to-month</td>\n",
       "      <td>Yes</td>\n",
       "      <td>Electronic check</td>\n",
       "      <td>29.85</td>\n",
       "      <td>29.85</td>\n",
       "      <td>No</td>\n",
       "    </tr>\n",
       "    <tr>\n",
       "      <th>1</th>\n",
       "      <td>5575-GNVDE</td>\n",
       "      <td>Male</td>\n",
       "      <td>0</td>\n",
       "      <td>No</td>\n",
       "      <td>No</td>\n",
       "      <td>34</td>\n",
       "      <td>Yes</td>\n",
       "      <td>No</td>\n",
       "      <td>DSL</td>\n",
       "      <td>Yes</td>\n",
       "      <td>No</td>\n",
       "      <td>Yes</td>\n",
       "      <td>No</td>\n",
       "      <td>No</td>\n",
       "      <td>No</td>\n",
       "      <td>One year</td>\n",
       "      <td>No</td>\n",
       "      <td>Mailed check</td>\n",
       "      <td>56.95</td>\n",
       "      <td>1889.5</td>\n",
       "      <td>No</td>\n",
       "    </tr>\n",
       "    <tr>\n",
       "      <th>2</th>\n",
       "      <td>3668-QPYBK</td>\n",
       "      <td>Male</td>\n",
       "      <td>0</td>\n",
       "      <td>No</td>\n",
       "      <td>No</td>\n",
       "      <td>2</td>\n",
       "      <td>Yes</td>\n",
       "      <td>No</td>\n",
       "      <td>DSL</td>\n",
       "      <td>Yes</td>\n",
       "      <td>Yes</td>\n",
       "      <td>No</td>\n",
       "      <td>No</td>\n",
       "      <td>No</td>\n",
       "      <td>No</td>\n",
       "      <td>Month-to-month</td>\n",
       "      <td>Yes</td>\n",
       "      <td>Mailed check</td>\n",
       "      <td>53.85</td>\n",
       "      <td>108.15</td>\n",
       "      <td>Yes</td>\n",
       "    </tr>\n",
       "    <tr>\n",
       "      <th>3</th>\n",
       "      <td>7795-CFOCW</td>\n",
       "      <td>Male</td>\n",
       "      <td>0</td>\n",
       "      <td>No</td>\n",
       "      <td>No</td>\n",
       "      <td>45</td>\n",
       "      <td>No</td>\n",
       "      <td>No phone service</td>\n",
       "      <td>DSL</td>\n",
       "      <td>Yes</td>\n",
       "      <td>No</td>\n",
       "      <td>Yes</td>\n",
       "      <td>Yes</td>\n",
       "      <td>No</td>\n",
       "      <td>No</td>\n",
       "      <td>One year</td>\n",
       "      <td>No</td>\n",
       "      <td>Bank transfer (automatic)</td>\n",
       "      <td>42.30</td>\n",
       "      <td>1840.75</td>\n",
       "      <td>No</td>\n",
       "    </tr>\n",
       "    <tr>\n",
       "      <th>4</th>\n",
       "      <td>9237-HQITU</td>\n",
       "      <td>Female</td>\n",
       "      <td>0</td>\n",
       "      <td>No</td>\n",
       "      <td>No</td>\n",
       "      <td>2</td>\n",
       "      <td>Yes</td>\n",
       "      <td>No</td>\n",
       "      <td>Fiber optic</td>\n",
       "      <td>No</td>\n",
       "      <td>No</td>\n",
       "      <td>No</td>\n",
       "      <td>No</td>\n",
       "      <td>No</td>\n",
       "      <td>No</td>\n",
       "      <td>Month-to-month</td>\n",
       "      <td>Yes</td>\n",
       "      <td>Electronic check</td>\n",
       "      <td>70.70</td>\n",
       "      <td>151.65</td>\n",
       "      <td>Yes</td>\n",
       "    </tr>\n",
       "  </tbody>\n",
       "</table>\n",
       "</div>\n",
       "    <div class=\"colab-df-buttons\">\n",
       "\n",
       "  <div class=\"colab-df-container\">\n",
       "    <button class=\"colab-df-convert\" onclick=\"convertToInteractive('df-aa3f40b1-389c-4027-a955-6dee8327da76')\"\n",
       "            title=\"Convert this dataframe to an interactive table.\"\n",
       "            style=\"display:none;\">\n",
       "\n",
       "  <svg xmlns=\"http://www.w3.org/2000/svg\" height=\"24px\" viewBox=\"0 -960 960 960\">\n",
       "    <path d=\"M120-120v-720h720v720H120Zm60-500h600v-160H180v160Zm220 220h160v-160H400v160Zm0 220h160v-160H400v160ZM180-400h160v-160H180v160Zm440 0h160v-160H620v160ZM180-180h160v-160H180v160Zm440 0h160v-160H620v160Z\"/>\n",
       "  </svg>\n",
       "    </button>\n",
       "\n",
       "  <style>\n",
       "    .colab-df-container {\n",
       "      display:flex;\n",
       "      gap: 12px;\n",
       "    }\n",
       "\n",
       "    .colab-df-convert {\n",
       "      background-color: #E8F0FE;\n",
       "      border: none;\n",
       "      border-radius: 50%;\n",
       "      cursor: pointer;\n",
       "      display: none;\n",
       "      fill: #1967D2;\n",
       "      height: 32px;\n",
       "      padding: 0 0 0 0;\n",
       "      width: 32px;\n",
       "    }\n",
       "\n",
       "    .colab-df-convert:hover {\n",
       "      background-color: #E2EBFA;\n",
       "      box-shadow: 0px 1px 2px rgba(60, 64, 67, 0.3), 0px 1px 3px 1px rgba(60, 64, 67, 0.15);\n",
       "      fill: #174EA6;\n",
       "    }\n",
       "\n",
       "    .colab-df-buttons div {\n",
       "      margin-bottom: 4px;\n",
       "    }\n",
       "\n",
       "    [theme=dark] .colab-df-convert {\n",
       "      background-color: #3B4455;\n",
       "      fill: #D2E3FC;\n",
       "    }\n",
       "\n",
       "    [theme=dark] .colab-df-convert:hover {\n",
       "      background-color: #434B5C;\n",
       "      box-shadow: 0px 1px 3px 1px rgba(0, 0, 0, 0.15);\n",
       "      filter: drop-shadow(0px 1px 2px rgba(0, 0, 0, 0.3));\n",
       "      fill: #FFFFFF;\n",
       "    }\n",
       "  </style>\n",
       "\n",
       "    <script>\n",
       "      const buttonEl =\n",
       "        document.querySelector('#df-aa3f40b1-389c-4027-a955-6dee8327da76 button.colab-df-convert');\n",
       "      buttonEl.style.display =\n",
       "        google.colab.kernel.accessAllowed ? 'block' : 'none';\n",
       "\n",
       "      async function convertToInteractive(key) {\n",
       "        const element = document.querySelector('#df-aa3f40b1-389c-4027-a955-6dee8327da76');\n",
       "        const dataTable =\n",
       "          await google.colab.kernel.invokeFunction('convertToInteractive',\n",
       "                                                    [key], {});\n",
       "        if (!dataTable) return;\n",
       "\n",
       "        const docLinkHtml = 'Like what you see? Visit the ' +\n",
       "          '<a target=\"_blank\" href=https://colab.research.google.com/notebooks/data_table.ipynb>data table notebook</a>'\n",
       "          + ' to learn more about interactive tables.';\n",
       "        element.innerHTML = '';\n",
       "        dataTable['output_type'] = 'display_data';\n",
       "        await google.colab.output.renderOutput(dataTable, element);\n",
       "        const docLink = document.createElement('div');\n",
       "        docLink.innerHTML = docLinkHtml;\n",
       "        element.appendChild(docLink);\n",
       "      }\n",
       "    </script>\n",
       "  </div>\n",
       "\n",
       "\n",
       "<div id=\"df-c42d926f-fcbc-4d46-8685-d0e2ec00585e\">\n",
       "  <button class=\"colab-df-quickchart\" onclick=\"quickchart('df-c42d926f-fcbc-4d46-8685-d0e2ec00585e')\"\n",
       "            title=\"Suggest charts.\"\n",
       "            style=\"display:none;\">\n",
       "\n",
       "<svg xmlns=\"http://www.w3.org/2000/svg\" height=\"24px\"viewBox=\"0 0 24 24\"\n",
       "     width=\"24px\">\n",
       "    <g>\n",
       "        <path d=\"M19 3H5c-1.1 0-2 .9-2 2v14c0 1.1.9 2 2 2h14c1.1 0 2-.9 2-2V5c0-1.1-.9-2-2-2zM9 17H7v-7h2v7zm4 0h-2V7h2v10zm4 0h-2v-4h2v4z\"/>\n",
       "    </g>\n",
       "</svg>\n",
       "  </button>\n",
       "\n",
       "<style>\n",
       "  .colab-df-quickchart {\n",
       "      --bg-color: #E8F0FE;\n",
       "      --fill-color: #1967D2;\n",
       "      --hover-bg-color: #E2EBFA;\n",
       "      --hover-fill-color: #174EA6;\n",
       "      --disabled-fill-color: #AAA;\n",
       "      --disabled-bg-color: #DDD;\n",
       "  }\n",
       "\n",
       "  [theme=dark] .colab-df-quickchart {\n",
       "      --bg-color: #3B4455;\n",
       "      --fill-color: #D2E3FC;\n",
       "      --hover-bg-color: #434B5C;\n",
       "      --hover-fill-color: #FFFFFF;\n",
       "      --disabled-bg-color: #3B4455;\n",
       "      --disabled-fill-color: #666;\n",
       "  }\n",
       "\n",
       "  .colab-df-quickchart {\n",
       "    background-color: var(--bg-color);\n",
       "    border: none;\n",
       "    border-radius: 50%;\n",
       "    cursor: pointer;\n",
       "    display: none;\n",
       "    fill: var(--fill-color);\n",
       "    height: 32px;\n",
       "    padding: 0;\n",
       "    width: 32px;\n",
       "  }\n",
       "\n",
       "  .colab-df-quickchart:hover {\n",
       "    background-color: var(--hover-bg-color);\n",
       "    box-shadow: 0 1px 2px rgba(60, 64, 67, 0.3), 0 1px 3px 1px rgba(60, 64, 67, 0.15);\n",
       "    fill: var(--button-hover-fill-color);\n",
       "  }\n",
       "\n",
       "  .colab-df-quickchart-complete:disabled,\n",
       "  .colab-df-quickchart-complete:disabled:hover {\n",
       "    background-color: var(--disabled-bg-color);\n",
       "    fill: var(--disabled-fill-color);\n",
       "    box-shadow: none;\n",
       "  }\n",
       "\n",
       "  .colab-df-spinner {\n",
       "    border: 2px solid var(--fill-color);\n",
       "    border-color: transparent;\n",
       "    border-bottom-color: var(--fill-color);\n",
       "    animation:\n",
       "      spin 1s steps(1) infinite;\n",
       "  }\n",
       "\n",
       "  @keyframes spin {\n",
       "    0% {\n",
       "      border-color: transparent;\n",
       "      border-bottom-color: var(--fill-color);\n",
       "      border-left-color: var(--fill-color);\n",
       "    }\n",
       "    20% {\n",
       "      border-color: transparent;\n",
       "      border-left-color: var(--fill-color);\n",
       "      border-top-color: var(--fill-color);\n",
       "    }\n",
       "    30% {\n",
       "      border-color: transparent;\n",
       "      border-left-color: var(--fill-color);\n",
       "      border-top-color: var(--fill-color);\n",
       "      border-right-color: var(--fill-color);\n",
       "    }\n",
       "    40% {\n",
       "      border-color: transparent;\n",
       "      border-right-color: var(--fill-color);\n",
       "      border-top-color: var(--fill-color);\n",
       "    }\n",
       "    60% {\n",
       "      border-color: transparent;\n",
       "      border-right-color: var(--fill-color);\n",
       "    }\n",
       "    80% {\n",
       "      border-color: transparent;\n",
       "      border-right-color: var(--fill-color);\n",
       "      border-bottom-color: var(--fill-color);\n",
       "    }\n",
       "    90% {\n",
       "      border-color: transparent;\n",
       "      border-bottom-color: var(--fill-color);\n",
       "    }\n",
       "  }\n",
       "</style>\n",
       "\n",
       "  <script>\n",
       "    async function quickchart(key) {\n",
       "      const quickchartButtonEl =\n",
       "        document.querySelector('#' + key + ' button');\n",
       "      quickchartButtonEl.disabled = true;  // To prevent multiple clicks.\n",
       "      quickchartButtonEl.classList.add('colab-df-spinner');\n",
       "      try {\n",
       "        const charts = await google.colab.kernel.invokeFunction(\n",
       "            'suggestCharts', [key], {});\n",
       "      } catch (error) {\n",
       "        console.error('Error during call to suggestCharts:', error);\n",
       "      }\n",
       "      quickchartButtonEl.classList.remove('colab-df-spinner');\n",
       "      quickchartButtonEl.classList.add('colab-df-quickchart-complete');\n",
       "    }\n",
       "    (() => {\n",
       "      let quickchartButtonEl =\n",
       "        document.querySelector('#df-c42d926f-fcbc-4d46-8685-d0e2ec00585e button');\n",
       "      quickchartButtonEl.style.display =\n",
       "        google.colab.kernel.accessAllowed ? 'block' : 'none';\n",
       "    })();\n",
       "  </script>\n",
       "</div>\n",
       "    </div>\n",
       "  </div>\n"
      ],
      "text/plain": [
       "   customerID  gender  SeniorCitizen Partner Dependents  tenure PhoneService  \\\n",
       "0  7590-VHVEG  Female              0     Yes         No       1           No   \n",
       "1  5575-GNVDE    Male              0      No         No      34          Yes   \n",
       "2  3668-QPYBK    Male              0      No         No       2          Yes   \n",
       "3  7795-CFOCW    Male              0      No         No      45           No   \n",
       "4  9237-HQITU  Female              0      No         No       2          Yes   \n",
       "\n",
       "      MultipleLines InternetService OnlineSecurity OnlineBackup  \\\n",
       "0  No phone service             DSL             No          Yes   \n",
       "1                No             DSL            Yes           No   \n",
       "2                No             DSL            Yes          Yes   \n",
       "3  No phone service             DSL            Yes           No   \n",
       "4                No     Fiber optic             No           No   \n",
       "\n",
       "  DeviceProtection TechSupport StreamingTV StreamingMovies        Contract  \\\n",
       "0               No          No          No              No  Month-to-month   \n",
       "1              Yes          No          No              No        One year   \n",
       "2               No          No          No              No  Month-to-month   \n",
       "3              Yes         Yes          No              No        One year   \n",
       "4               No          No          No              No  Month-to-month   \n",
       "\n",
       "  PaperlessBilling              PaymentMethod  MonthlyCharges TotalCharges  \\\n",
       "0              Yes           Electronic check           29.85        29.85   \n",
       "1               No               Mailed check           56.95       1889.5   \n",
       "2              Yes               Mailed check           53.85       108.15   \n",
       "3               No  Bank transfer (automatic)           42.30      1840.75   \n",
       "4              Yes           Electronic check           70.70       151.65   \n",
       "\n",
       "  Churn  \n",
       "0    No  \n",
       "1    No  \n",
       "2   Yes  \n",
       "3    No  \n",
       "4   Yes  "
      ]
     },
     "execution_count": 1,
     "metadata": {},
     "output_type": "execute_result"
    }
   ],
   "source": [
    "import numpy as np\n",
    "import pandas as pd\n",
    "import matplotlib.pyplot as plt\n",
    "import seaborn as sns\n",
    "\n",
    "# Loading the data\n",
    "pd.set_option('display.max_columns', None)\n",
    "df = pd.read_csv(\"/content/drive/MyDrive/Colab Notebooks/Telco Customer Churn Prediction/DATA/WA_Fn-UseC_-Telco-Customer-Churn.csv\")\n",
    "df.head()\n"
   ]
  },
  {
   "cell_type": "code",
   "execution_count": null,
   "metadata": {
    "id": "j9BcbU9MV1ms"
   },
   "outputs": [],
   "source": [
    "# Function for data summary\n",
    "def data_summary(df):\n",
    "\n",
    "  '''\n",
    "     Args : df(dataframe)\n",
    "\n",
    "     Output : Shape of df\n",
    "              Description\n",
    "   '''\n",
    "  print(\"Shape of the Data :\", df.shape)\n",
    "  print(\"------------------------------------------------------------------------\")\n",
    "  print(\"Statistical Description :\", df.describe(include=\"all\"))\n"
   ]
  },
  {
   "cell_type": "code",
   "execution_count": null,
   "metadata": {
    "colab": {
     "base_uri": "https://localhost:8080/"
    },
    "id": "Ei4PgHtlWabB",
    "outputId": "580b639c-0423-48ba-d4e7-6d8ca05759b1"
   },
   "outputs": [
    {
     "name": "stdout",
     "output_type": "stream",
     "text": [
      "Shape of the Data : (7043, 21)\n",
      "------------------------------------------------------------------------\n",
      "Statistical Description :         customerID gender  SeniorCitizen Partner Dependents       tenure  \\\n",
      "count         7043   7043    7043.000000    7043       7043  7043.000000   \n",
      "unique        7043      2            NaN       2          2          NaN   \n",
      "top     7590-VHVEG   Male            NaN      No         No          NaN   \n",
      "freq             1   3555            NaN    3641       4933          NaN   \n",
      "mean           NaN    NaN       0.162147     NaN        NaN    32.371149   \n",
      "std            NaN    NaN       0.368612     NaN        NaN    24.559481   \n",
      "min            NaN    NaN       0.000000     NaN        NaN     0.000000   \n",
      "25%            NaN    NaN       0.000000     NaN        NaN     9.000000   \n",
      "50%            NaN    NaN       0.000000     NaN        NaN    29.000000   \n",
      "75%            NaN    NaN       0.000000     NaN        NaN    55.000000   \n",
      "max            NaN    NaN       1.000000     NaN        NaN    72.000000   \n",
      "\n",
      "       PhoneService MultipleLines InternetService OnlineSecurity OnlineBackup  \\\n",
      "count          7043          7043            7043           7043         7043   \n",
      "unique            2             3               3              3            3   \n",
      "top             Yes            No     Fiber optic             No           No   \n",
      "freq           6361          3390            3096           3498         3088   \n",
      "mean            NaN           NaN             NaN            NaN          NaN   \n",
      "std             NaN           NaN             NaN            NaN          NaN   \n",
      "min             NaN           NaN             NaN            NaN          NaN   \n",
      "25%             NaN           NaN             NaN            NaN          NaN   \n",
      "50%             NaN           NaN             NaN            NaN          NaN   \n",
      "75%             NaN           NaN             NaN            NaN          NaN   \n",
      "max             NaN           NaN             NaN            NaN          NaN   \n",
      "\n",
      "       DeviceProtection TechSupport StreamingTV StreamingMovies  \\\n",
      "count              7043        7043        7043            7043   \n",
      "unique                3           3           3               3   \n",
      "top                  No          No          No              No   \n",
      "freq               3095        3473        2810            2785   \n",
      "mean                NaN         NaN         NaN             NaN   \n",
      "std                 NaN         NaN         NaN             NaN   \n",
      "min                 NaN         NaN         NaN             NaN   \n",
      "25%                 NaN         NaN         NaN             NaN   \n",
      "50%                 NaN         NaN         NaN             NaN   \n",
      "75%                 NaN         NaN         NaN             NaN   \n",
      "max                 NaN         NaN         NaN             NaN   \n",
      "\n",
      "              Contract PaperlessBilling     PaymentMethod  MonthlyCharges  \\\n",
      "count             7043             7043              7043     7043.000000   \n",
      "unique               3                2                 4             NaN   \n",
      "top     Month-to-month              Yes  Electronic check             NaN   \n",
      "freq              3875             4171              2365             NaN   \n",
      "mean               NaN              NaN               NaN       64.761692   \n",
      "std                NaN              NaN               NaN       30.090047   \n",
      "min                NaN              NaN               NaN       18.250000   \n",
      "25%                NaN              NaN               NaN       35.500000   \n",
      "50%                NaN              NaN               NaN       70.350000   \n",
      "75%                NaN              NaN               NaN       89.850000   \n",
      "max                NaN              NaN               NaN      118.750000   \n",
      "\n",
      "       TotalCharges Churn  \n",
      "count          7043  7043  \n",
      "unique         6531     2  \n",
      "top                    No  \n",
      "freq             11  5174  \n",
      "mean            NaN   NaN  \n",
      "std             NaN   NaN  \n",
      "min             NaN   NaN  \n",
      "25%             NaN   NaN  \n",
      "50%             NaN   NaN  \n",
      "75%             NaN   NaN  \n",
      "max             NaN   NaN  \n"
     ]
    }
   ],
   "source": [
    "data_summary(df)"
   ]
  },
  {
   "cell_type": "code",
   "execution_count": null,
   "metadata": {
    "colab": {
     "base_uri": "https://localhost:8080/"
    },
    "id": "HC9_GAo5UDYh",
    "outputId": "d1aad9ad-8fbf-4b48-d9d6-f64a3634780d"
   },
   "outputs": [
    {
     "data": {
      "text/plain": [
       "Index(['customerID', 'gender', 'SeniorCitizen', 'Partner', 'Dependents',\n",
       "       'tenure', 'PhoneService', 'MultipleLines', 'InternetService',\n",
       "       'OnlineSecurity', 'OnlineBackup', 'DeviceProtection', 'TechSupport',\n",
       "       'StreamingTV', 'StreamingMovies', 'Contract', 'PaperlessBilling',\n",
       "       'PaymentMethod', 'MonthlyCharges', 'TotalCharges', 'Churn'],\n",
       "      dtype='object')"
      ]
     },
     "execution_count": 4,
     "metadata": {},
     "output_type": "execute_result"
    }
   ],
   "source": [
    "# Printing column names\n",
    "df.columns"
   ]
  },
  {
   "cell_type": "code",
   "execution_count": null,
   "metadata": {
    "id": "-MHHloQNbIOv"
   },
   "outputs": [],
   "source": [
    "df.columns = ['CustomerID', 'Gender', 'SeniorCitizen', 'Partner', 'Dependents',\n",
    "       'Tenure', 'PhoneService', 'MultipleLines', 'InternetService',\n",
    "       'OnlineSecurity', 'OnlineBackup', 'DeviceProtection', 'TechSupport',\n",
    "       'StreamingTV', 'StreamingMovies', 'Contract', 'PaperlessBilling',\n",
    "       'PaymentMethod', 'MonthlyCharges', 'TotalCharges', 'Churn']"
   ]
  },
  {
   "cell_type": "code",
   "execution_count": null,
   "metadata": {
    "colab": {
     "base_uri": "https://localhost:8080/"
    },
    "id": "NDrZWZDvUxQh",
    "outputId": "30129587-bd76-44c0-9d99-87ddbe0066e8"
   },
   "outputs": [
    {
     "name": "stdout",
     "output_type": "stream",
     "text": [
      "CustomerID - Unique Values: ['7590-VHVEG' '5575-GNVDE' '3668-QPYBK' ... '4801-JZAZL' '8361-LTMKD'\n",
      " '3186-AJIEK']\n",
      "-----------------------------------------------------------------------------------\n",
      "Gender - Unique Values: ['Female' 'Male']\n",
      "-----------------------------------------------------------------------------------\n",
      "SeniorCitizen - Unique Values: [0 1]\n",
      "-----------------------------------------------------------------------------------\n",
      "Partner - Unique Values: ['Yes' 'No']\n",
      "-----------------------------------------------------------------------------------\n",
      "Dependents - Unique Values: ['No' 'Yes']\n",
      "-----------------------------------------------------------------------------------\n",
      "Tenure - Unique Values: [ 1 34  2 45  8 22 10 28 62 13 16 58 49 25 69 52 71 21 12 30 47 72 17 27\n",
      "  5 46 11 70 63 43 15 60 18 66  9  3 31 50 64 56  7 42 35 48 29 65 38 68\n",
      " 32 55 37 36 41  6  4 33 67 23 57 61 14 20 53 40 59 24 44 19 54 51 26  0\n",
      " 39]\n",
      "-----------------------------------------------------------------------------------\n",
      "PhoneService - Unique Values: ['No' 'Yes']\n",
      "-----------------------------------------------------------------------------------\n",
      "MultipleLines - Unique Values: ['No phone service' 'No' 'Yes']\n",
      "-----------------------------------------------------------------------------------\n",
      "InternetService - Unique Values: ['DSL' 'Fiber optic' 'No']\n",
      "-----------------------------------------------------------------------------------\n",
      "OnlineSecurity - Unique Values: ['No' 'Yes' 'No internet service']\n",
      "-----------------------------------------------------------------------------------\n",
      "OnlineBackup - Unique Values: ['Yes' 'No' 'No internet service']\n",
      "-----------------------------------------------------------------------------------\n",
      "DeviceProtection - Unique Values: ['No' 'Yes' 'No internet service']\n",
      "-----------------------------------------------------------------------------------\n",
      "TechSupport - Unique Values: ['No' 'Yes' 'No internet service']\n",
      "-----------------------------------------------------------------------------------\n",
      "StreamingTV - Unique Values: ['No' 'Yes' 'No internet service']\n",
      "-----------------------------------------------------------------------------------\n",
      "StreamingMovies - Unique Values: ['No' 'Yes' 'No internet service']\n",
      "-----------------------------------------------------------------------------------\n",
      "Contract - Unique Values: ['Month-to-month' 'One year' 'Two year']\n",
      "-----------------------------------------------------------------------------------\n",
      "PaperlessBilling - Unique Values: ['Yes' 'No']\n",
      "-----------------------------------------------------------------------------------\n",
      "PaymentMethod - Unique Values: ['Electronic check' 'Mailed check' 'Bank transfer (automatic)'\n",
      " 'Credit card (automatic)']\n",
      "-----------------------------------------------------------------------------------\n",
      "MonthlyCharges - Unique Values: [29.85 56.95 53.85 ... 63.1  44.2  78.7 ]\n",
      "-----------------------------------------------------------------------------------\n",
      "TotalCharges - Unique Values: ['29.85' '1889.5' '108.15' ... '346.45' '306.6' '6844.5']\n",
      "-----------------------------------------------------------------------------------\n",
      "Churn - Unique Values: ['No' 'Yes']\n",
      "-----------------------------------------------------------------------------------\n"
     ]
    }
   ],
   "source": [
    "# check unique values of each column\n",
    "for column in df.columns:\n",
    "    print('{} - Unique Values: {}'.format(column, df[column].unique()))\n",
    "    print(\"-----------------------------------------------------------------------------------\")"
   ]
  },
  {
   "cell_type": "markdown",
   "metadata": {
    "id": "iuvECaTqonNj"
   },
   "source": [
    "## Exploratory Data Analysis and Data Cleaning  \n",
    "Exploratory data analysis (EDA) is a vital part of data science as it helps to discover relationships between the entities of the data we are working on. It is helpful to use EDA when we’re dealing with data for the first time. It also helps with large datasets as it is not practically possible to determine relationships with large unknown data. As we deep dive in EDA, we find various patterns which prove to be fruitful for further data processing and modeling."
   ]
  },
  {
   "cell_type": "code",
   "execution_count": null,
   "metadata": {
    "colab": {
     "base_uri": "https://localhost:8080/"
    },
    "id": "xrbFrqZdVq9B",
    "outputId": "8acaf20e-318f-4ba6-c73b-2ee8f561d2d3"
   },
   "outputs": [
    {
     "name": "stdout",
     "output_type": "stream",
     "text": [
      "<class 'pandas.core.frame.DataFrame'>\n",
      "RangeIndex: 7043 entries, 0 to 7042\n",
      "Data columns (total 21 columns):\n",
      " #   Column            Non-Null Count  Dtype  \n",
      "---  ------            --------------  -----  \n",
      " 0   CustomerID        7043 non-null   object \n",
      " 1   Gender            7043 non-null   object \n",
      " 2   SeniorCitizen     7043 non-null   int64  \n",
      " 3   Partner           7043 non-null   object \n",
      " 4   Dependents        7043 non-null   object \n",
      " 5   Tenure            7043 non-null   int64  \n",
      " 6   PhoneService      7043 non-null   object \n",
      " 7   MultipleLines     7043 non-null   object \n",
      " 8   InternetService   7043 non-null   object \n",
      " 9   OnlineSecurity    7043 non-null   object \n",
      " 10  OnlineBackup      7043 non-null   object \n",
      " 11  DeviceProtection  7043 non-null   object \n",
      " 12  TechSupport       7043 non-null   object \n",
      " 13  StreamingTV       7043 non-null   object \n",
      " 14  StreamingMovies   7043 non-null   object \n",
      " 15  Contract          7043 non-null   object \n",
      " 16  PaperlessBilling  7043 non-null   object \n",
      " 17  PaymentMethod     7043 non-null   object \n",
      " 18  MonthlyCharges    7043 non-null   float64\n",
      " 19  TotalCharges      7043 non-null   object \n",
      " 20  Churn             7043 non-null   object \n",
      "dtypes: float64(1), int64(2), object(18)\n",
      "memory usage: 1.1+ MB\n"
     ]
    }
   ],
   "source": [
    "df.info()"
   ]
  },
  {
   "cell_type": "markdown",
   "metadata": {
    "id": "bUM12_tYppYS"
   },
   "source": [
    "### Changing the wrong data type\n",
    "- The `TotalCharges` column is in the wrong data type. We will convert it into `float` data type."
   ]
  },
  {
   "cell_type": "code",
   "execution_count": null,
   "metadata": {
    "colab": {
     "base_uri": "https://localhost:8080/"
    },
    "id": "7l5CnocmqHB4",
    "outputId": "05a6f99e-da60-4416-aee1-94350b4e34dd"
   },
   "outputs": [
    {
     "name": "stdout",
     "output_type": "stream",
     "text": [
      "CustomerID           object\n",
      "Gender               object\n",
      "SeniorCitizen         int64\n",
      "Partner              object\n",
      "Dependents           object\n",
      "Tenure                int64\n",
      "PhoneService         object\n",
      "MultipleLines        object\n",
      "InternetService      object\n",
      "OnlineSecurity       object\n",
      "OnlineBackup         object\n",
      "DeviceProtection     object\n",
      "TechSupport          object\n",
      "StreamingTV          object\n",
      "StreamingMovies      object\n",
      "Contract             object\n",
      "PaperlessBilling     object\n",
      "PaymentMethod        object\n",
      "MonthlyCharges      float64\n",
      "TotalCharges        float64\n",
      "Churn                object\n",
      "dtype: object\n"
     ]
    }
   ],
   "source": [
    "# transform the column TotalCharges into a numeric data type\n",
    "df['TotalCharges'] = pd.to_numeric(df['TotalCharges'], errors='coerce')\n",
    "print(df.dtypes)"
   ]
  },
  {
   "cell_type": "code",
   "execution_count": null,
   "metadata": {
    "colab": {
     "base_uri": "https://localhost:8080/"
    },
    "id": "xpIBNOa1sX4S",
    "outputId": "9606259c-333b-40b6-a9f8-837ad1519380"
   },
   "outputs": [
    {
     "data": {
      "text/plain": [
       "CustomerID           0\n",
       "Gender               0\n",
       "SeniorCitizen        0\n",
       "Partner              0\n",
       "Dependents           0\n",
       "Tenure               0\n",
       "PhoneService         0\n",
       "MultipleLines        0\n",
       "InternetService      0\n",
       "OnlineSecurity       0\n",
       "OnlineBackup         0\n",
       "DeviceProtection     0\n",
       "TechSupport          0\n",
       "StreamingTV          0\n",
       "StreamingMovies      0\n",
       "Contract             0\n",
       "PaperlessBilling     0\n",
       "PaymentMethod        0\n",
       "MonthlyCharges       0\n",
       "TotalCharges        11\n",
       "Churn                0\n",
       "dtype: int64"
      ]
     },
     "execution_count": 9,
     "metadata": {},
     "output_type": "execute_result"
    }
   ],
   "source": [
    "# Checking for null values\n",
    "df.isnull().sum()"
   ]
  },
  {
   "cell_type": "markdown",
   "metadata": {
    "id": "ZTCYVl69s030"
   },
   "source": [
    "### Missing Values\n",
    "We see that there are 11 missing values in the `TotalChargea` column."
   ]
  },
  {
   "cell_type": "code",
   "execution_count": null,
   "metadata": {
    "colab": {
     "base_uri": "https://localhost:8080/"
    },
    "id": "-1bpsyUtsycS",
    "outputId": "767b4485-a5fc-4880-bc4f-6854340dfbd1"
   },
   "outputs": [
    {
     "data": {
      "text/html": [
       "\n",
       "  <div id=\"df-e4451b95-714d-4784-8703-156d42e96f89\" class=\"colab-df-container\">\n",
       "    <div>\n",
       "<style scoped>\n",
       "    .dataframe tbody tr th:only-of-type {\n",
       "        vertical-align: middle;\n",
       "    }\n",
       "\n",
       "    .dataframe tbody tr th {\n",
       "        vertical-align: top;\n",
       "    }\n",
       "\n",
       "    .dataframe thead th {\n",
       "        text-align: right;\n",
       "    }\n",
       "</style>\n",
       "<table border=\"1\" class=\"dataframe\">\n",
       "  <thead>\n",
       "    <tr style=\"text-align: right;\">\n",
       "      <th></th>\n",
       "      <th>CustomerID</th>\n",
       "      <th>Gender</th>\n",
       "      <th>SeniorCitizen</th>\n",
       "      <th>Partner</th>\n",
       "      <th>Dependents</th>\n",
       "      <th>Tenure</th>\n",
       "      <th>PhoneService</th>\n",
       "      <th>MultipleLines</th>\n",
       "      <th>InternetService</th>\n",
       "      <th>OnlineSecurity</th>\n",
       "      <th>OnlineBackup</th>\n",
       "      <th>DeviceProtection</th>\n",
       "      <th>TechSupport</th>\n",
       "      <th>StreamingTV</th>\n",
       "      <th>StreamingMovies</th>\n",
       "      <th>Contract</th>\n",
       "      <th>PaperlessBilling</th>\n",
       "      <th>PaymentMethod</th>\n",
       "      <th>MonthlyCharges</th>\n",
       "      <th>TotalCharges</th>\n",
       "      <th>Churn</th>\n",
       "    </tr>\n",
       "  </thead>\n",
       "  <tbody>\n",
       "    <tr>\n",
       "      <th>488</th>\n",
       "      <td>4472-LVYGI</td>\n",
       "      <td>Female</td>\n",
       "      <td>0</td>\n",
       "      <td>Yes</td>\n",
       "      <td>Yes</td>\n",
       "      <td>0</td>\n",
       "      <td>No</td>\n",
       "      <td>No phone service</td>\n",
       "      <td>DSL</td>\n",
       "      <td>Yes</td>\n",
       "      <td>No</td>\n",
       "      <td>Yes</td>\n",
       "      <td>Yes</td>\n",
       "      <td>Yes</td>\n",
       "      <td>No</td>\n",
       "      <td>Two year</td>\n",
       "      <td>Yes</td>\n",
       "      <td>Bank transfer (automatic)</td>\n",
       "      <td>52.55</td>\n",
       "      <td>NaN</td>\n",
       "      <td>No</td>\n",
       "    </tr>\n",
       "    <tr>\n",
       "      <th>753</th>\n",
       "      <td>3115-CZMZD</td>\n",
       "      <td>Male</td>\n",
       "      <td>0</td>\n",
       "      <td>No</td>\n",
       "      <td>Yes</td>\n",
       "      <td>0</td>\n",
       "      <td>Yes</td>\n",
       "      <td>No</td>\n",
       "      <td>No</td>\n",
       "      <td>No internet service</td>\n",
       "      <td>No internet service</td>\n",
       "      <td>No internet service</td>\n",
       "      <td>No internet service</td>\n",
       "      <td>No internet service</td>\n",
       "      <td>No internet service</td>\n",
       "      <td>Two year</td>\n",
       "      <td>No</td>\n",
       "      <td>Mailed check</td>\n",
       "      <td>20.25</td>\n",
       "      <td>NaN</td>\n",
       "      <td>No</td>\n",
       "    </tr>\n",
       "    <tr>\n",
       "      <th>936</th>\n",
       "      <td>5709-LVOEQ</td>\n",
       "      <td>Female</td>\n",
       "      <td>0</td>\n",
       "      <td>Yes</td>\n",
       "      <td>Yes</td>\n",
       "      <td>0</td>\n",
       "      <td>Yes</td>\n",
       "      <td>No</td>\n",
       "      <td>DSL</td>\n",
       "      <td>Yes</td>\n",
       "      <td>Yes</td>\n",
       "      <td>Yes</td>\n",
       "      <td>No</td>\n",
       "      <td>Yes</td>\n",
       "      <td>Yes</td>\n",
       "      <td>Two year</td>\n",
       "      <td>No</td>\n",
       "      <td>Mailed check</td>\n",
       "      <td>80.85</td>\n",
       "      <td>NaN</td>\n",
       "      <td>No</td>\n",
       "    </tr>\n",
       "    <tr>\n",
       "      <th>1082</th>\n",
       "      <td>4367-NUYAO</td>\n",
       "      <td>Male</td>\n",
       "      <td>0</td>\n",
       "      <td>Yes</td>\n",
       "      <td>Yes</td>\n",
       "      <td>0</td>\n",
       "      <td>Yes</td>\n",
       "      <td>Yes</td>\n",
       "      <td>No</td>\n",
       "      <td>No internet service</td>\n",
       "      <td>No internet service</td>\n",
       "      <td>No internet service</td>\n",
       "      <td>No internet service</td>\n",
       "      <td>No internet service</td>\n",
       "      <td>No internet service</td>\n",
       "      <td>Two year</td>\n",
       "      <td>No</td>\n",
       "      <td>Mailed check</td>\n",
       "      <td>25.75</td>\n",
       "      <td>NaN</td>\n",
       "      <td>No</td>\n",
       "    </tr>\n",
       "    <tr>\n",
       "      <th>1340</th>\n",
       "      <td>1371-DWPAZ</td>\n",
       "      <td>Female</td>\n",
       "      <td>0</td>\n",
       "      <td>Yes</td>\n",
       "      <td>Yes</td>\n",
       "      <td>0</td>\n",
       "      <td>No</td>\n",
       "      <td>No phone service</td>\n",
       "      <td>DSL</td>\n",
       "      <td>Yes</td>\n",
       "      <td>Yes</td>\n",
       "      <td>Yes</td>\n",
       "      <td>Yes</td>\n",
       "      <td>Yes</td>\n",
       "      <td>No</td>\n",
       "      <td>Two year</td>\n",
       "      <td>No</td>\n",
       "      <td>Credit card (automatic)</td>\n",
       "      <td>56.05</td>\n",
       "      <td>NaN</td>\n",
       "      <td>No</td>\n",
       "    </tr>\n",
       "    <tr>\n",
       "      <th>3331</th>\n",
       "      <td>7644-OMVMY</td>\n",
       "      <td>Male</td>\n",
       "      <td>0</td>\n",
       "      <td>Yes</td>\n",
       "      <td>Yes</td>\n",
       "      <td>0</td>\n",
       "      <td>Yes</td>\n",
       "      <td>No</td>\n",
       "      <td>No</td>\n",
       "      <td>No internet service</td>\n",
       "      <td>No internet service</td>\n",
       "      <td>No internet service</td>\n",
       "      <td>No internet service</td>\n",
       "      <td>No internet service</td>\n",
       "      <td>No internet service</td>\n",
       "      <td>Two year</td>\n",
       "      <td>No</td>\n",
       "      <td>Mailed check</td>\n",
       "      <td>19.85</td>\n",
       "      <td>NaN</td>\n",
       "      <td>No</td>\n",
       "    </tr>\n",
       "    <tr>\n",
       "      <th>3826</th>\n",
       "      <td>3213-VVOLG</td>\n",
       "      <td>Male</td>\n",
       "      <td>0</td>\n",
       "      <td>Yes</td>\n",
       "      <td>Yes</td>\n",
       "      <td>0</td>\n",
       "      <td>Yes</td>\n",
       "      <td>Yes</td>\n",
       "      <td>No</td>\n",
       "      <td>No internet service</td>\n",
       "      <td>No internet service</td>\n",
       "      <td>No internet service</td>\n",
       "      <td>No internet service</td>\n",
       "      <td>No internet service</td>\n",
       "      <td>No internet service</td>\n",
       "      <td>Two year</td>\n",
       "      <td>No</td>\n",
       "      <td>Mailed check</td>\n",
       "      <td>25.35</td>\n",
       "      <td>NaN</td>\n",
       "      <td>No</td>\n",
       "    </tr>\n",
       "    <tr>\n",
       "      <th>4380</th>\n",
       "      <td>2520-SGTTA</td>\n",
       "      <td>Female</td>\n",
       "      <td>0</td>\n",
       "      <td>Yes</td>\n",
       "      <td>Yes</td>\n",
       "      <td>0</td>\n",
       "      <td>Yes</td>\n",
       "      <td>No</td>\n",
       "      <td>No</td>\n",
       "      <td>No internet service</td>\n",
       "      <td>No internet service</td>\n",
       "      <td>No internet service</td>\n",
       "      <td>No internet service</td>\n",
       "      <td>No internet service</td>\n",
       "      <td>No internet service</td>\n",
       "      <td>Two year</td>\n",
       "      <td>No</td>\n",
       "      <td>Mailed check</td>\n",
       "      <td>20.00</td>\n",
       "      <td>NaN</td>\n",
       "      <td>No</td>\n",
       "    </tr>\n",
       "    <tr>\n",
       "      <th>5218</th>\n",
       "      <td>2923-ARZLG</td>\n",
       "      <td>Male</td>\n",
       "      <td>0</td>\n",
       "      <td>Yes</td>\n",
       "      <td>Yes</td>\n",
       "      <td>0</td>\n",
       "      <td>Yes</td>\n",
       "      <td>No</td>\n",
       "      <td>No</td>\n",
       "      <td>No internet service</td>\n",
       "      <td>No internet service</td>\n",
       "      <td>No internet service</td>\n",
       "      <td>No internet service</td>\n",
       "      <td>No internet service</td>\n",
       "      <td>No internet service</td>\n",
       "      <td>One year</td>\n",
       "      <td>Yes</td>\n",
       "      <td>Mailed check</td>\n",
       "      <td>19.70</td>\n",
       "      <td>NaN</td>\n",
       "      <td>No</td>\n",
       "    </tr>\n",
       "    <tr>\n",
       "      <th>6670</th>\n",
       "      <td>4075-WKNIU</td>\n",
       "      <td>Female</td>\n",
       "      <td>0</td>\n",
       "      <td>Yes</td>\n",
       "      <td>Yes</td>\n",
       "      <td>0</td>\n",
       "      <td>Yes</td>\n",
       "      <td>Yes</td>\n",
       "      <td>DSL</td>\n",
       "      <td>No</td>\n",
       "      <td>Yes</td>\n",
       "      <td>Yes</td>\n",
       "      <td>Yes</td>\n",
       "      <td>Yes</td>\n",
       "      <td>No</td>\n",
       "      <td>Two year</td>\n",
       "      <td>No</td>\n",
       "      <td>Mailed check</td>\n",
       "      <td>73.35</td>\n",
       "      <td>NaN</td>\n",
       "      <td>No</td>\n",
       "    </tr>\n",
       "    <tr>\n",
       "      <th>6754</th>\n",
       "      <td>2775-SEFEE</td>\n",
       "      <td>Male</td>\n",
       "      <td>0</td>\n",
       "      <td>No</td>\n",
       "      <td>Yes</td>\n",
       "      <td>0</td>\n",
       "      <td>Yes</td>\n",
       "      <td>Yes</td>\n",
       "      <td>DSL</td>\n",
       "      <td>Yes</td>\n",
       "      <td>Yes</td>\n",
       "      <td>No</td>\n",
       "      <td>Yes</td>\n",
       "      <td>No</td>\n",
       "      <td>No</td>\n",
       "      <td>Two year</td>\n",
       "      <td>Yes</td>\n",
       "      <td>Bank transfer (automatic)</td>\n",
       "      <td>61.90</td>\n",
       "      <td>NaN</td>\n",
       "      <td>No</td>\n",
       "    </tr>\n",
       "  </tbody>\n",
       "</table>\n",
       "</div>\n",
       "    <div class=\"colab-df-buttons\">\n",
       "\n",
       "  <div class=\"colab-df-container\">\n",
       "    <button class=\"colab-df-convert\" onclick=\"convertToInteractive('df-e4451b95-714d-4784-8703-156d42e96f89')\"\n",
       "            title=\"Convert this dataframe to an interactive table.\"\n",
       "            style=\"display:none;\">\n",
       "\n",
       "  <svg xmlns=\"http://www.w3.org/2000/svg\" height=\"24px\" viewBox=\"0 -960 960 960\">\n",
       "    <path d=\"M120-120v-720h720v720H120Zm60-500h600v-160H180v160Zm220 220h160v-160H400v160Zm0 220h160v-160H400v160ZM180-400h160v-160H180v160Zm440 0h160v-160H620v160ZM180-180h160v-160H180v160Zm440 0h160v-160H620v160Z\"/>\n",
       "  </svg>\n",
       "    </button>\n",
       "\n",
       "  <style>\n",
       "    .colab-df-container {\n",
       "      display:flex;\n",
       "      gap: 12px;\n",
       "    }\n",
       "\n",
       "    .colab-df-convert {\n",
       "      background-color: #E8F0FE;\n",
       "      border: none;\n",
       "      border-radius: 50%;\n",
       "      cursor: pointer;\n",
       "      display: none;\n",
       "      fill: #1967D2;\n",
       "      height: 32px;\n",
       "      padding: 0 0 0 0;\n",
       "      width: 32px;\n",
       "    }\n",
       "\n",
       "    .colab-df-convert:hover {\n",
       "      background-color: #E2EBFA;\n",
       "      box-shadow: 0px 1px 2px rgba(60, 64, 67, 0.3), 0px 1px 3px 1px rgba(60, 64, 67, 0.15);\n",
       "      fill: #174EA6;\n",
       "    }\n",
       "\n",
       "    .colab-df-buttons div {\n",
       "      margin-bottom: 4px;\n",
       "    }\n",
       "\n",
       "    [theme=dark] .colab-df-convert {\n",
       "      background-color: #3B4455;\n",
       "      fill: #D2E3FC;\n",
       "    }\n",
       "\n",
       "    [theme=dark] .colab-df-convert:hover {\n",
       "      background-color: #434B5C;\n",
       "      box-shadow: 0px 1px 3px 1px rgba(0, 0, 0, 0.15);\n",
       "      filter: drop-shadow(0px 1px 2px rgba(0, 0, 0, 0.3));\n",
       "      fill: #FFFFFF;\n",
       "    }\n",
       "  </style>\n",
       "\n",
       "    <script>\n",
       "      const buttonEl =\n",
       "        document.querySelector('#df-e4451b95-714d-4784-8703-156d42e96f89 button.colab-df-convert');\n",
       "      buttonEl.style.display =\n",
       "        google.colab.kernel.accessAllowed ? 'block' : 'none';\n",
       "\n",
       "      async function convertToInteractive(key) {\n",
       "        const element = document.querySelector('#df-e4451b95-714d-4784-8703-156d42e96f89');\n",
       "        const dataTable =\n",
       "          await google.colab.kernel.invokeFunction('convertToInteractive',\n",
       "                                                    [key], {});\n",
       "        if (!dataTable) return;\n",
       "\n",
       "        const docLinkHtml = 'Like what you see? Visit the ' +\n",
       "          '<a target=\"_blank\" href=https://colab.research.google.com/notebooks/data_table.ipynb>data table notebook</a>'\n",
       "          + ' to learn more about interactive tables.';\n",
       "        element.innerHTML = '';\n",
       "        dataTable['output_type'] = 'display_data';\n",
       "        await google.colab.output.renderOutput(dataTable, element);\n",
       "        const docLink = document.createElement('div');\n",
       "        docLink.innerHTML = docLinkHtml;\n",
       "        element.appendChild(docLink);\n",
       "      }\n",
       "    </script>\n",
       "  </div>\n",
       "\n",
       "\n",
       "<div id=\"df-295288bc-6140-4c92-9fa6-226d56a8ef27\">\n",
       "  <button class=\"colab-df-quickchart\" onclick=\"quickchart('df-295288bc-6140-4c92-9fa6-226d56a8ef27')\"\n",
       "            title=\"Suggest charts.\"\n",
       "            style=\"display:none;\">\n",
       "\n",
       "<svg xmlns=\"http://www.w3.org/2000/svg\" height=\"24px\"viewBox=\"0 0 24 24\"\n",
       "     width=\"24px\">\n",
       "    <g>\n",
       "        <path d=\"M19 3H5c-1.1 0-2 .9-2 2v14c0 1.1.9 2 2 2h14c1.1 0 2-.9 2-2V5c0-1.1-.9-2-2-2zM9 17H7v-7h2v7zm4 0h-2V7h2v10zm4 0h-2v-4h2v4z\"/>\n",
       "    </g>\n",
       "</svg>\n",
       "  </button>\n",
       "\n",
       "<style>\n",
       "  .colab-df-quickchart {\n",
       "      --bg-color: #E8F0FE;\n",
       "      --fill-color: #1967D2;\n",
       "      --hover-bg-color: #E2EBFA;\n",
       "      --hover-fill-color: #174EA6;\n",
       "      --disabled-fill-color: #AAA;\n",
       "      --disabled-bg-color: #DDD;\n",
       "  }\n",
       "\n",
       "  [theme=dark] .colab-df-quickchart {\n",
       "      --bg-color: #3B4455;\n",
       "      --fill-color: #D2E3FC;\n",
       "      --hover-bg-color: #434B5C;\n",
       "      --hover-fill-color: #FFFFFF;\n",
       "      --disabled-bg-color: #3B4455;\n",
       "      --disabled-fill-color: #666;\n",
       "  }\n",
       "\n",
       "  .colab-df-quickchart {\n",
       "    background-color: var(--bg-color);\n",
       "    border: none;\n",
       "    border-radius: 50%;\n",
       "    cursor: pointer;\n",
       "    display: none;\n",
       "    fill: var(--fill-color);\n",
       "    height: 32px;\n",
       "    padding: 0;\n",
       "    width: 32px;\n",
       "  }\n",
       "\n",
       "  .colab-df-quickchart:hover {\n",
       "    background-color: var(--hover-bg-color);\n",
       "    box-shadow: 0 1px 2px rgba(60, 64, 67, 0.3), 0 1px 3px 1px rgba(60, 64, 67, 0.15);\n",
       "    fill: var(--button-hover-fill-color);\n",
       "  }\n",
       "\n",
       "  .colab-df-quickchart-complete:disabled,\n",
       "  .colab-df-quickchart-complete:disabled:hover {\n",
       "    background-color: var(--disabled-bg-color);\n",
       "    fill: var(--disabled-fill-color);\n",
       "    box-shadow: none;\n",
       "  }\n",
       "\n",
       "  .colab-df-spinner {\n",
       "    border: 2px solid var(--fill-color);\n",
       "    border-color: transparent;\n",
       "    border-bottom-color: var(--fill-color);\n",
       "    animation:\n",
       "      spin 1s steps(1) infinite;\n",
       "  }\n",
       "\n",
       "  @keyframes spin {\n",
       "    0% {\n",
       "      border-color: transparent;\n",
       "      border-bottom-color: var(--fill-color);\n",
       "      border-left-color: var(--fill-color);\n",
       "    }\n",
       "    20% {\n",
       "      border-color: transparent;\n",
       "      border-left-color: var(--fill-color);\n",
       "      border-top-color: var(--fill-color);\n",
       "    }\n",
       "    30% {\n",
       "      border-color: transparent;\n",
       "      border-left-color: var(--fill-color);\n",
       "      border-top-color: var(--fill-color);\n",
       "      border-right-color: var(--fill-color);\n",
       "    }\n",
       "    40% {\n",
       "      border-color: transparent;\n",
       "      border-right-color: var(--fill-color);\n",
       "      border-top-color: var(--fill-color);\n",
       "    }\n",
       "    60% {\n",
       "      border-color: transparent;\n",
       "      border-right-color: var(--fill-color);\n",
       "    }\n",
       "    80% {\n",
       "      border-color: transparent;\n",
       "      border-right-color: var(--fill-color);\n",
       "      border-bottom-color: var(--fill-color);\n",
       "    }\n",
       "    90% {\n",
       "      border-color: transparent;\n",
       "      border-bottom-color: var(--fill-color);\n",
       "    }\n",
       "  }\n",
       "</style>\n",
       "\n",
       "  <script>\n",
       "    async function quickchart(key) {\n",
       "      const quickchartButtonEl =\n",
       "        document.querySelector('#' + key + ' button');\n",
       "      quickchartButtonEl.disabled = true;  // To prevent multiple clicks.\n",
       "      quickchartButtonEl.classList.add('colab-df-spinner');\n",
       "      try {\n",
       "        const charts = await google.colab.kernel.invokeFunction(\n",
       "            'suggestCharts', [key], {});\n",
       "      } catch (error) {\n",
       "        console.error('Error during call to suggestCharts:', error);\n",
       "      }\n",
       "      quickchartButtonEl.classList.remove('colab-df-spinner');\n",
       "      quickchartButtonEl.classList.add('colab-df-quickchart-complete');\n",
       "    }\n",
       "    (() => {\n",
       "      let quickchartButtonEl =\n",
       "        document.querySelector('#df-295288bc-6140-4c92-9fa6-226d56a8ef27 button');\n",
       "      quickchartButtonEl.style.display =\n",
       "        google.colab.kernel.accessAllowed ? 'block' : 'none';\n",
       "    })();\n",
       "  </script>\n",
       "</div>\n",
       "    </div>\n",
       "  </div>\n"
      ],
      "text/plain": [
       "      CustomerID  Gender  SeniorCitizen Partner Dependents  Tenure  \\\n",
       "488   4472-LVYGI  Female              0     Yes        Yes       0   \n",
       "753   3115-CZMZD    Male              0      No        Yes       0   \n",
       "936   5709-LVOEQ  Female              0     Yes        Yes       0   \n",
       "1082  4367-NUYAO    Male              0     Yes        Yes       0   \n",
       "1340  1371-DWPAZ  Female              0     Yes        Yes       0   \n",
       "3331  7644-OMVMY    Male              0     Yes        Yes       0   \n",
       "3826  3213-VVOLG    Male              0     Yes        Yes       0   \n",
       "4380  2520-SGTTA  Female              0     Yes        Yes       0   \n",
       "5218  2923-ARZLG    Male              0     Yes        Yes       0   \n",
       "6670  4075-WKNIU  Female              0     Yes        Yes       0   \n",
       "6754  2775-SEFEE    Male              0      No        Yes       0   \n",
       "\n",
       "     PhoneService     MultipleLines InternetService       OnlineSecurity  \\\n",
       "488            No  No phone service             DSL                  Yes   \n",
       "753           Yes                No              No  No internet service   \n",
       "936           Yes                No             DSL                  Yes   \n",
       "1082          Yes               Yes              No  No internet service   \n",
       "1340           No  No phone service             DSL                  Yes   \n",
       "3331          Yes                No              No  No internet service   \n",
       "3826          Yes               Yes              No  No internet service   \n",
       "4380          Yes                No              No  No internet service   \n",
       "5218          Yes                No              No  No internet service   \n",
       "6670          Yes               Yes             DSL                   No   \n",
       "6754          Yes               Yes             DSL                  Yes   \n",
       "\n",
       "             OnlineBackup     DeviceProtection          TechSupport  \\\n",
       "488                    No                  Yes                  Yes   \n",
       "753   No internet service  No internet service  No internet service   \n",
       "936                   Yes                  Yes                   No   \n",
       "1082  No internet service  No internet service  No internet service   \n",
       "1340                  Yes                  Yes                  Yes   \n",
       "3331  No internet service  No internet service  No internet service   \n",
       "3826  No internet service  No internet service  No internet service   \n",
       "4380  No internet service  No internet service  No internet service   \n",
       "5218  No internet service  No internet service  No internet service   \n",
       "6670                  Yes                  Yes                  Yes   \n",
       "6754                  Yes                   No                  Yes   \n",
       "\n",
       "              StreamingTV      StreamingMovies  Contract PaperlessBilling  \\\n",
       "488                   Yes                   No  Two year              Yes   \n",
       "753   No internet service  No internet service  Two year               No   \n",
       "936                   Yes                  Yes  Two year               No   \n",
       "1082  No internet service  No internet service  Two year               No   \n",
       "1340                  Yes                   No  Two year               No   \n",
       "3331  No internet service  No internet service  Two year               No   \n",
       "3826  No internet service  No internet service  Two year               No   \n",
       "4380  No internet service  No internet service  Two year               No   \n",
       "5218  No internet service  No internet service  One year              Yes   \n",
       "6670                  Yes                   No  Two year               No   \n",
       "6754                   No                   No  Two year              Yes   \n",
       "\n",
       "                  PaymentMethod  MonthlyCharges  TotalCharges Churn  \n",
       "488   Bank transfer (automatic)           52.55           NaN    No  \n",
       "753                Mailed check           20.25           NaN    No  \n",
       "936                Mailed check           80.85           NaN    No  \n",
       "1082               Mailed check           25.75           NaN    No  \n",
       "1340    Credit card (automatic)           56.05           NaN    No  \n",
       "3331               Mailed check           19.85           NaN    No  \n",
       "3826               Mailed check           25.35           NaN    No  \n",
       "4380               Mailed check           20.00           NaN    No  \n",
       "5218               Mailed check           19.70           NaN    No  \n",
       "6670               Mailed check           73.35           NaN    No  \n",
       "6754  Bank transfer (automatic)           61.90           NaN    No  "
      ]
     },
     "execution_count": 10,
     "metadata": {},
     "output_type": "execute_result"
    }
   ],
   "source": [
    "df[df[\"TotalCharges\"].isnull()]"
   ]
  },
  {
   "cell_type": "markdown",
   "metadata": {
    "id": "9_Dap5JIts7w"
   },
   "source": [
    "### Removing Null values\n",
    "Notice that the `tenure` for these observations is 0 but `MonthlyCharges` is not 0. This information is absurd, so we will remove these observations from the data"
   ]
  },
  {
   "cell_type": "code",
   "execution_count": null,
   "metadata": {
    "colab": {
     "base_uri": "https://localhost:8080/"
    },
    "id": "UbYiTf2qtmxt",
    "outputId": "337e561e-daa5-4e73-d997-32d7b57fdb55"
   },
   "outputs": [
    {
     "data": {
      "text/plain": [
       "(7032, 21)"
      ]
     },
     "execution_count": 11,
     "metadata": {},
     "output_type": "execute_result"
    }
   ],
   "source": [
    "df.dropna(inplace = True)\n",
    "df.shape"
   ]
  },
  {
   "cell_type": "markdown",
   "metadata": {
    "id": "SNguLrSlWHaP"
   },
   "source": [
    "### Removing the `customerID` column  \n",
    " It has no use in our prediction"
   ]
  },
  {
   "cell_type": "code",
   "execution_count": null,
   "metadata": {
    "colab": {
     "base_uri": "https://localhost:8080/"
    },
    "id": "gf31ojeqS9N7",
    "outputId": "0efacddb-0435-4464-8f39-f271d9482c9f"
   },
   "outputs": [
    {
     "data": {
      "text/html": [
       "\n",
       "  <div id=\"df-97304955-1f0b-4095-89b9-883f233b1cba\" class=\"colab-df-container\">\n",
       "    <div>\n",
       "<style scoped>\n",
       "    .dataframe tbody tr th:only-of-type {\n",
       "        vertical-align: middle;\n",
       "    }\n",
       "\n",
       "    .dataframe tbody tr th {\n",
       "        vertical-align: top;\n",
       "    }\n",
       "\n",
       "    .dataframe thead th {\n",
       "        text-align: right;\n",
       "    }\n",
       "</style>\n",
       "<table border=\"1\" class=\"dataframe\">\n",
       "  <thead>\n",
       "    <tr style=\"text-align: right;\">\n",
       "      <th></th>\n",
       "      <th>Gender</th>\n",
       "      <th>SeniorCitizen</th>\n",
       "      <th>Partner</th>\n",
       "      <th>Dependents</th>\n",
       "      <th>Tenure</th>\n",
       "      <th>PhoneService</th>\n",
       "      <th>MultipleLines</th>\n",
       "      <th>InternetService</th>\n",
       "      <th>OnlineSecurity</th>\n",
       "      <th>OnlineBackup</th>\n",
       "      <th>DeviceProtection</th>\n",
       "      <th>TechSupport</th>\n",
       "      <th>StreamingTV</th>\n",
       "      <th>StreamingMovies</th>\n",
       "      <th>Contract</th>\n",
       "      <th>PaperlessBilling</th>\n",
       "      <th>PaymentMethod</th>\n",
       "      <th>MonthlyCharges</th>\n",
       "      <th>TotalCharges</th>\n",
       "      <th>Churn</th>\n",
       "    </tr>\n",
       "  </thead>\n",
       "  <tbody>\n",
       "    <tr>\n",
       "      <th>0</th>\n",
       "      <td>Female</td>\n",
       "      <td>0</td>\n",
       "      <td>Yes</td>\n",
       "      <td>No</td>\n",
       "      <td>1</td>\n",
       "      <td>No</td>\n",
       "      <td>No phone service</td>\n",
       "      <td>DSL</td>\n",
       "      <td>No</td>\n",
       "      <td>Yes</td>\n",
       "      <td>No</td>\n",
       "      <td>No</td>\n",
       "      <td>No</td>\n",
       "      <td>No</td>\n",
       "      <td>Month-to-month</td>\n",
       "      <td>Yes</td>\n",
       "      <td>Electronic check</td>\n",
       "      <td>29.85</td>\n",
       "      <td>29.85</td>\n",
       "      <td>No</td>\n",
       "    </tr>\n",
       "    <tr>\n",
       "      <th>1</th>\n",
       "      <td>Male</td>\n",
       "      <td>0</td>\n",
       "      <td>No</td>\n",
       "      <td>No</td>\n",
       "      <td>34</td>\n",
       "      <td>Yes</td>\n",
       "      <td>No</td>\n",
       "      <td>DSL</td>\n",
       "      <td>Yes</td>\n",
       "      <td>No</td>\n",
       "      <td>Yes</td>\n",
       "      <td>No</td>\n",
       "      <td>No</td>\n",
       "      <td>No</td>\n",
       "      <td>One year</td>\n",
       "      <td>No</td>\n",
       "      <td>Mailed check</td>\n",
       "      <td>56.95</td>\n",
       "      <td>1889.50</td>\n",
       "      <td>No</td>\n",
       "    </tr>\n",
       "    <tr>\n",
       "      <th>2</th>\n",
       "      <td>Male</td>\n",
       "      <td>0</td>\n",
       "      <td>No</td>\n",
       "      <td>No</td>\n",
       "      <td>2</td>\n",
       "      <td>Yes</td>\n",
       "      <td>No</td>\n",
       "      <td>DSL</td>\n",
       "      <td>Yes</td>\n",
       "      <td>Yes</td>\n",
       "      <td>No</td>\n",
       "      <td>No</td>\n",
       "      <td>No</td>\n",
       "      <td>No</td>\n",
       "      <td>Month-to-month</td>\n",
       "      <td>Yes</td>\n",
       "      <td>Mailed check</td>\n",
       "      <td>53.85</td>\n",
       "      <td>108.15</td>\n",
       "      <td>Yes</td>\n",
       "    </tr>\n",
       "    <tr>\n",
       "      <th>3</th>\n",
       "      <td>Male</td>\n",
       "      <td>0</td>\n",
       "      <td>No</td>\n",
       "      <td>No</td>\n",
       "      <td>45</td>\n",
       "      <td>No</td>\n",
       "      <td>No phone service</td>\n",
       "      <td>DSL</td>\n",
       "      <td>Yes</td>\n",
       "      <td>No</td>\n",
       "      <td>Yes</td>\n",
       "      <td>Yes</td>\n",
       "      <td>No</td>\n",
       "      <td>No</td>\n",
       "      <td>One year</td>\n",
       "      <td>No</td>\n",
       "      <td>Bank transfer (automatic)</td>\n",
       "      <td>42.30</td>\n",
       "      <td>1840.75</td>\n",
       "      <td>No</td>\n",
       "    </tr>\n",
       "    <tr>\n",
       "      <th>4</th>\n",
       "      <td>Female</td>\n",
       "      <td>0</td>\n",
       "      <td>No</td>\n",
       "      <td>No</td>\n",
       "      <td>2</td>\n",
       "      <td>Yes</td>\n",
       "      <td>No</td>\n",
       "      <td>Fiber optic</td>\n",
       "      <td>No</td>\n",
       "      <td>No</td>\n",
       "      <td>No</td>\n",
       "      <td>No</td>\n",
       "      <td>No</td>\n",
       "      <td>No</td>\n",
       "      <td>Month-to-month</td>\n",
       "      <td>Yes</td>\n",
       "      <td>Electronic check</td>\n",
       "      <td>70.70</td>\n",
       "      <td>151.65</td>\n",
       "      <td>Yes</td>\n",
       "    </tr>\n",
       "  </tbody>\n",
       "</table>\n",
       "</div>\n",
       "    <div class=\"colab-df-buttons\">\n",
       "\n",
       "  <div class=\"colab-df-container\">\n",
       "    <button class=\"colab-df-convert\" onclick=\"convertToInteractive('df-97304955-1f0b-4095-89b9-883f233b1cba')\"\n",
       "            title=\"Convert this dataframe to an interactive table.\"\n",
       "            style=\"display:none;\">\n",
       "\n",
       "  <svg xmlns=\"http://www.w3.org/2000/svg\" height=\"24px\" viewBox=\"0 -960 960 960\">\n",
       "    <path d=\"M120-120v-720h720v720H120Zm60-500h600v-160H180v160Zm220 220h160v-160H400v160Zm0 220h160v-160H400v160ZM180-400h160v-160H180v160Zm440 0h160v-160H620v160ZM180-180h160v-160H180v160Zm440 0h160v-160H620v160Z\"/>\n",
       "  </svg>\n",
       "    </button>\n",
       "\n",
       "  <style>\n",
       "    .colab-df-container {\n",
       "      display:flex;\n",
       "      gap: 12px;\n",
       "    }\n",
       "\n",
       "    .colab-df-convert {\n",
       "      background-color: #E8F0FE;\n",
       "      border: none;\n",
       "      border-radius: 50%;\n",
       "      cursor: pointer;\n",
       "      display: none;\n",
       "      fill: #1967D2;\n",
       "      height: 32px;\n",
       "      padding: 0 0 0 0;\n",
       "      width: 32px;\n",
       "    }\n",
       "\n",
       "    .colab-df-convert:hover {\n",
       "      background-color: #E2EBFA;\n",
       "      box-shadow: 0px 1px 2px rgba(60, 64, 67, 0.3), 0px 1px 3px 1px rgba(60, 64, 67, 0.15);\n",
       "      fill: #174EA6;\n",
       "    }\n",
       "\n",
       "    .colab-df-buttons div {\n",
       "      margin-bottom: 4px;\n",
       "    }\n",
       "\n",
       "    [theme=dark] .colab-df-convert {\n",
       "      background-color: #3B4455;\n",
       "      fill: #D2E3FC;\n",
       "    }\n",
       "\n",
       "    [theme=dark] .colab-df-convert:hover {\n",
       "      background-color: #434B5C;\n",
       "      box-shadow: 0px 1px 3px 1px rgba(0, 0, 0, 0.15);\n",
       "      filter: drop-shadow(0px 1px 2px rgba(0, 0, 0, 0.3));\n",
       "      fill: #FFFFFF;\n",
       "    }\n",
       "  </style>\n",
       "\n",
       "    <script>\n",
       "      const buttonEl =\n",
       "        document.querySelector('#df-97304955-1f0b-4095-89b9-883f233b1cba button.colab-df-convert');\n",
       "      buttonEl.style.display =\n",
       "        google.colab.kernel.accessAllowed ? 'block' : 'none';\n",
       "\n",
       "      async function convertToInteractive(key) {\n",
       "        const element = document.querySelector('#df-97304955-1f0b-4095-89b9-883f233b1cba');\n",
       "        const dataTable =\n",
       "          await google.colab.kernel.invokeFunction('convertToInteractive',\n",
       "                                                    [key], {});\n",
       "        if (!dataTable) return;\n",
       "\n",
       "        const docLinkHtml = 'Like what you see? Visit the ' +\n",
       "          '<a target=\"_blank\" href=https://colab.research.google.com/notebooks/data_table.ipynb>data table notebook</a>'\n",
       "          + ' to learn more about interactive tables.';\n",
       "        element.innerHTML = '';\n",
       "        dataTable['output_type'] = 'display_data';\n",
       "        await google.colab.output.renderOutput(dataTable, element);\n",
       "        const docLink = document.createElement('div');\n",
       "        docLink.innerHTML = docLinkHtml;\n",
       "        element.appendChild(docLink);\n",
       "      }\n",
       "    </script>\n",
       "  </div>\n",
       "\n",
       "\n",
       "<div id=\"df-9f18c0da-4a24-478f-a0be-cb64c1c0b58e\">\n",
       "  <button class=\"colab-df-quickchart\" onclick=\"quickchart('df-9f18c0da-4a24-478f-a0be-cb64c1c0b58e')\"\n",
       "            title=\"Suggest charts.\"\n",
       "            style=\"display:none;\">\n",
       "\n",
       "<svg xmlns=\"http://www.w3.org/2000/svg\" height=\"24px\"viewBox=\"0 0 24 24\"\n",
       "     width=\"24px\">\n",
       "    <g>\n",
       "        <path d=\"M19 3H5c-1.1 0-2 .9-2 2v14c0 1.1.9 2 2 2h14c1.1 0 2-.9 2-2V5c0-1.1-.9-2-2-2zM9 17H7v-7h2v7zm4 0h-2V7h2v10zm4 0h-2v-4h2v4z\"/>\n",
       "    </g>\n",
       "</svg>\n",
       "  </button>\n",
       "\n",
       "<style>\n",
       "  .colab-df-quickchart {\n",
       "      --bg-color: #E8F0FE;\n",
       "      --fill-color: #1967D2;\n",
       "      --hover-bg-color: #E2EBFA;\n",
       "      --hover-fill-color: #174EA6;\n",
       "      --disabled-fill-color: #AAA;\n",
       "      --disabled-bg-color: #DDD;\n",
       "  }\n",
       "\n",
       "  [theme=dark] .colab-df-quickchart {\n",
       "      --bg-color: #3B4455;\n",
       "      --fill-color: #D2E3FC;\n",
       "      --hover-bg-color: #434B5C;\n",
       "      --hover-fill-color: #FFFFFF;\n",
       "      --disabled-bg-color: #3B4455;\n",
       "      --disabled-fill-color: #666;\n",
       "  }\n",
       "\n",
       "  .colab-df-quickchart {\n",
       "    background-color: var(--bg-color);\n",
       "    border: none;\n",
       "    border-radius: 50%;\n",
       "    cursor: pointer;\n",
       "    display: none;\n",
       "    fill: var(--fill-color);\n",
       "    height: 32px;\n",
       "    padding: 0;\n",
       "    width: 32px;\n",
       "  }\n",
       "\n",
       "  .colab-df-quickchart:hover {\n",
       "    background-color: var(--hover-bg-color);\n",
       "    box-shadow: 0 1px 2px rgba(60, 64, 67, 0.3), 0 1px 3px 1px rgba(60, 64, 67, 0.15);\n",
       "    fill: var(--button-hover-fill-color);\n",
       "  }\n",
       "\n",
       "  .colab-df-quickchart-complete:disabled,\n",
       "  .colab-df-quickchart-complete:disabled:hover {\n",
       "    background-color: var(--disabled-bg-color);\n",
       "    fill: var(--disabled-fill-color);\n",
       "    box-shadow: none;\n",
       "  }\n",
       "\n",
       "  .colab-df-spinner {\n",
       "    border: 2px solid var(--fill-color);\n",
       "    border-color: transparent;\n",
       "    border-bottom-color: var(--fill-color);\n",
       "    animation:\n",
       "      spin 1s steps(1) infinite;\n",
       "  }\n",
       "\n",
       "  @keyframes spin {\n",
       "    0% {\n",
       "      border-color: transparent;\n",
       "      border-bottom-color: var(--fill-color);\n",
       "      border-left-color: var(--fill-color);\n",
       "    }\n",
       "    20% {\n",
       "      border-color: transparent;\n",
       "      border-left-color: var(--fill-color);\n",
       "      border-top-color: var(--fill-color);\n",
       "    }\n",
       "    30% {\n",
       "      border-color: transparent;\n",
       "      border-left-color: var(--fill-color);\n",
       "      border-top-color: var(--fill-color);\n",
       "      border-right-color: var(--fill-color);\n",
       "    }\n",
       "    40% {\n",
       "      border-color: transparent;\n",
       "      border-right-color: var(--fill-color);\n",
       "      border-top-color: var(--fill-color);\n",
       "    }\n",
       "    60% {\n",
       "      border-color: transparent;\n",
       "      border-right-color: var(--fill-color);\n",
       "    }\n",
       "    80% {\n",
       "      border-color: transparent;\n",
       "      border-right-color: var(--fill-color);\n",
       "      border-bottom-color: var(--fill-color);\n",
       "    }\n",
       "    90% {\n",
       "      border-color: transparent;\n",
       "      border-bottom-color: var(--fill-color);\n",
       "    }\n",
       "  }\n",
       "</style>\n",
       "\n",
       "  <script>\n",
       "    async function quickchart(key) {\n",
       "      const quickchartButtonEl =\n",
       "        document.querySelector('#' + key + ' button');\n",
       "      quickchartButtonEl.disabled = true;  // To prevent multiple clicks.\n",
       "      quickchartButtonEl.classList.add('colab-df-spinner');\n",
       "      try {\n",
       "        const charts = await google.colab.kernel.invokeFunction(\n",
       "            'suggestCharts', [key], {});\n",
       "      } catch (error) {\n",
       "        console.error('Error during call to suggestCharts:', error);\n",
       "      }\n",
       "      quickchartButtonEl.classList.remove('colab-df-spinner');\n",
       "      quickchartButtonEl.classList.add('colab-df-quickchart-complete');\n",
       "    }\n",
       "    (() => {\n",
       "      let quickchartButtonEl =\n",
       "        document.querySelector('#df-9f18c0da-4a24-478f-a0be-cb64c1c0b58e button');\n",
       "      quickchartButtonEl.style.display =\n",
       "        google.colab.kernel.accessAllowed ? 'block' : 'none';\n",
       "    })();\n",
       "  </script>\n",
       "</div>\n",
       "    </div>\n",
       "  </div>\n"
      ],
      "text/plain": [
       "   Gender  SeniorCitizen Partner Dependents  Tenure PhoneService  \\\n",
       "0  Female              0     Yes         No       1           No   \n",
       "1    Male              0      No         No      34          Yes   \n",
       "2    Male              0      No         No       2          Yes   \n",
       "3    Male              0      No         No      45           No   \n",
       "4  Female              0      No         No       2          Yes   \n",
       "\n",
       "      MultipleLines InternetService OnlineSecurity OnlineBackup  \\\n",
       "0  No phone service             DSL             No          Yes   \n",
       "1                No             DSL            Yes           No   \n",
       "2                No             DSL            Yes          Yes   \n",
       "3  No phone service             DSL            Yes           No   \n",
       "4                No     Fiber optic             No           No   \n",
       "\n",
       "  DeviceProtection TechSupport StreamingTV StreamingMovies        Contract  \\\n",
       "0               No          No          No              No  Month-to-month   \n",
       "1              Yes          No          No              No        One year   \n",
       "2               No          No          No              No  Month-to-month   \n",
       "3              Yes         Yes          No              No        One year   \n",
       "4               No          No          No              No  Month-to-month   \n",
       "\n",
       "  PaperlessBilling              PaymentMethod  MonthlyCharges  TotalCharges  \\\n",
       "0              Yes           Electronic check           29.85         29.85   \n",
       "1               No               Mailed check           56.95       1889.50   \n",
       "2              Yes               Mailed check           53.85        108.15   \n",
       "3               No  Bank transfer (automatic)           42.30       1840.75   \n",
       "4              Yes           Electronic check           70.70        151.65   \n",
       "\n",
       "  Churn  \n",
       "0    No  \n",
       "1    No  \n",
       "2   Yes  \n",
       "3    No  \n",
       "4   Yes  "
      ]
     },
     "execution_count": 12,
     "metadata": {},
     "output_type": "execute_result"
    }
   ],
   "source": [
    "df.drop(columns = [\"CustomerID\"], inplace= True)\n",
    "df.head()"
   ]
  },
  {
   "cell_type": "markdown",
   "metadata": {
    "id": "L3tkzSXiT5n2"
   },
   "source": [
    "## Data Visualization  \n",
    " Data visualization is a crucial tool in data analysis and decision-making across a wide range of fields, including business, science, healthcare, and finance. It enables individuals and organizations to spot trends, patterns, outliers, and correlations within data, making it easier to make informed decisions and communicate data-driven insights effectively."
   ]
  },
  {
   "cell_type": "markdown",
   "metadata": {
    "id": "pcE3mJDBWjiF"
   },
   "source": [
    "### Count Plot for Churn column"
   ]
  },
  {
   "cell_type": "code",
   "execution_count": null,
   "metadata": {
    "colab": {
     "base_uri": "https://localhost:8080/"
    },
    "id": "2ItCxCWTuSKY",
    "outputId": "0b7680f3-978e-4148-ca49-e11d6f651ad6"
   },
   "outputs": [
    {
     "data": {
      "image/png": "[encoded data removed]",
      "text/plain": [
       "<Figure size 640x480 with 1 Axes>"
      ]
     },
     "metadata": {},
     "output_type": "display_data"
    }
   ],
   "source": [
    "# Creating a count plot\n",
    "custom_palette = ['#3498db', '#e74c3c']\n",
    "sns.set(style='whitegrid')  # Optional style choice\n",
    "sns.countplot(data=df, x='Churn', palette = custom_palette)\n",
    "\n",
    "# Displaying the plot\n",
    "plt.title('Count Plot of Churn')\n",
    "plt.show()"
   ]
  },
  {
   "cell_type": "markdown",
   "metadata": {
    "id": "GGJL34heAIwy"
   },
   "source": [
    "Calculating the percentage of customers who churned"
   ]
  },
  {
   "cell_type": "code",
   "execution_count": null,
   "metadata": {
    "colab": {
     "base_uri": "https://localhost:8080/"
    },
    "id": "jDxtDXoPAJXH",
    "outputId": "5cd6866b-234c-4a99-9284-9a41868f775b"
   },
   "outputs": [
    {
     "name": "stdout",
     "output_type": "stream",
     "text": [
      "Total Percentage of customers who churned : 26.578498293515356\n"
     ]
    }
   ],
   "source": [
    "total =len(df)\n",
    "total_churn = len(df[df[\"Churn\"]==\"Yes\"])\n",
    "percentage = (total_churn/total)*100\n",
    "print(f\"Total Percentage of customers who churned : {percentage}\")\n"
   ]
  },
  {
   "cell_type": "markdown",
   "metadata": {
    "id": "mqddbFsPexEj"
   },
   "source": [
    "### Count Plots for Demographic Columns"
   ]
  },
  {
   "cell_type": "code",
   "execution_count": null,
   "metadata": {
    "colab": {
     "base_uri": "https://localhost:8080/"
    },
    "id": "5-cditHZapmy",
    "outputId": "760f7629-d45c-40c3-cf18-f74a90b5635b"
   },
   "outputs": [
    {
     "data": {
      "image/png": "[encoded data removed]",
      "text/plain": [
       "<Figure size 640x480 with 1 Axes>"
      ]
     },
     "metadata": {},
     "output_type": "display_data"
    },
    {
     "name": "stdout",
     "output_type": "stream",
     "text": [
      "==============================================================================\n"
     ]
    },
    {
     "data": {
      "image/png": "[encoded data removed]",
      "text/plain": [
       "<Figure size 640x480 with 1 Axes>"
      ]
     },
     "metadata": {},
     "output_type": "display_data"
    },
    {
     "name": "stdout",
     "output_type": "stream",
     "text": [
      "==============================================================================\n"
     ]
    },
    {
     "data": {
      "image/png": "[encoded data removed]",
      "text/plain": [
       "<Figure size 640x480 with 1 Axes>"
      ]
     },
     "metadata": {},
     "output_type": "display_data"
    },
    {
     "name": "stdout",
     "output_type": "stream",
     "text": [
      "==============================================================================\n"
     ]
    },
    {
     "data": {
      "image/png": "[encoded data removed]",
      "text/plain": [
       "<Figure size 640x480 with 1 Axes>"
      ]
     },
     "metadata": {},
     "output_type": "display_data"
    },
    {
     "name": "stdout",
     "output_type": "stream",
     "text": [
      "==============================================================================\n"
     ]
    }
   ],
   "source": [
    "# Creating a for loop for count plots of demographic coloumns\n",
    "dem_col = ['Gender', 'SeniorCitizen', 'Partner', 'Dependents']\n",
    "for col in dem_col:\n",
    "  sns.set(style='whitegrid')\n",
    "  sns.countplot(data=df, x=col, hue='Churn', palette=custom_palette)\n",
    "  # Adding labels and a title\n",
    "  plt.xlabel(f'{col}')\n",
    "  plt.ylabel('Count')\n",
    "  plt.title(f'Churn by {col}')\n",
    "\n",
    "  # Displaying the plot\n",
    "  plt.legend(title='Churn', loc='upper right')\n",
    "  plt.show()\n",
    "  print(\"==============================================================================\")\n"
   ]
  },
  {
   "cell_type": "markdown",
   "metadata": {
    "id": "yy9cPfLDCiM8"
   },
   "source": [
    "**Observations from the plot above**\n",
    "- Gender does not tell us anything about churning  \n",
    "- Senior Citizens are more likey to churn  \n",
    "- People with dependents are less likely to churn  \n",
    "- People with partners are slightly less likely to churn"
   ]
  },
  {
   "cell_type": "markdown",
   "metadata": {
    "id": "JzT2pzph82ip"
   },
   "source": [
    "### Bar Chart for Numerical Columns"
   ]
  },
  {
   "cell_type": "code",
   "execution_count": null,
   "metadata": {
    "colab": {
     "base_uri": "https://localhost:8080/"
    },
    "id": "-d9Bx2e95I1f",
    "outputId": "b094720f-4d97-4100-f1f1-4d697b487831"
   },
   "outputs": [
    {
     "data": {
      "image/png": "[encoded data removed]",
      "text/plain": [
       "<Figure size 640x480 with 1 Axes>"
      ]
     },
     "metadata": {},
     "output_type": "display_data"
    },
    {
     "name": "stdout",
     "output_type": "stream",
     "text": [
      "=================================================================================\n"
     ]
    },
    {
     "data": {
      "image/png": "[encoded data removed]",
      "text/plain": [
       "<Figure size 640x480 with 1 Axes>"
      ]
     },
     "metadata": {},
     "output_type": "display_data"
    },
    {
     "name": "stdout",
     "output_type": "stream",
     "text": [
      "=================================================================================\n"
     ]
    },
    {
     "data": {
      "image/png": "[encoded data removed]",
      "text/plain": [
       "<Figure size 640x480 with 1 Axes>"
      ]
     },
     "metadata": {},
     "output_type": "display_data"
    },
    {
     "name": "stdout",
     "output_type": "stream",
     "text": [
      "=================================================================================\n"
     ]
    }
   ],
   "source": [
    "# Creating a for loop for Bar plots of Numerical coloumns\n",
    "Num_Col = [\"Tenure\",\"MonthlyCharges\",\"TotalCharges\"]\n",
    "for col in Num_Col:\n",
    "  sns.set(style='darkgrid')\n",
    "  sns.barplot(data=df, x=\"Churn\", y = col, palette=\"plasma\")\n",
    "  # Adding labels and a title\n",
    "  plt.xlabel('Churn')\n",
    "  plt.ylabel(f'{col}')\n",
    "  plt.title(f'Bar Chart of {col} by Churn')\n",
    "\n",
    "  # Displaying the plot\n",
    "  plt.show()\n",
    "  print(\"=================================================================================\")"
   ]
  },
  {
   "cell_type": "markdown",
   "metadata": {
    "id": "UqOpK_v6DWQa"
   },
   "source": [
    "**Observations from the plot above**  \n",
    "- People with less tenure tend to churn more\n",
    "- As the Monthly Charges go up, people tend to churn slighlty more"
   ]
  },
  {
   "cell_type": "markdown",
   "metadata": {
    "id": "K0fF-wj69qDv"
   },
   "source": [
    "### Count Plot for Other Categorical Columns"
   ]
  },
  {
   "cell_type": "code",
   "execution_count": null,
   "metadata": {
    "colab": {
     "base_uri": "https://localhost:8080/"
    },
    "id": "pI3nYeWM92zu",
    "outputId": "db6141e1-f45c-4323-96ca-c39dc644dc19"
   },
   "outputs": [
    {
     "data": {
      "image/png": "[encoded data removed]",
      "text/plain": [
       "<Figure size 640x480 with 1 Axes>"
      ]
     },
     "metadata": {},
     "output_type": "display_data"
    },
    {
     "name": "stdout",
     "output_type": "stream",
     "text": [
      "==========================================================================================\n"
     ]
    },
    {
     "data": {
      "image/png": "[encoded data removed]",
      "text/plain": [
       "<Figure size 640x480 with 1 Axes>"
      ]
     },
     "metadata": {},
     "output_type": "display_data"
    },
    {
     "name": "stdout",
     "output_type": "stream",
     "text": [
      "==========================================================================================\n"
     ]
    },
    {
     "data": {
      "image/png": "[encoded data removed]",
      "text/plain": [
       "<Figure size 640x480 with 1 Axes>"
      ]
     },
     "metadata": {},
     "output_type": "display_data"
    },
    {
     "name": "stdout",
     "output_type": "stream",
     "text": [
      "==========================================================================================\n"
     ]
    },
    {
     "data": {
      "image/png": "[encoded data removed]",
      "text/plain": [
       "<Figure size 640x480 with 1 Axes>"
      ]
     },
     "metadata": {},
     "output_type": "display_data"
    },
    {
     "name": "stdout",
     "output_type": "stream",
     "text": [
      "==========================================================================================\n"
     ]
    },
    {
     "data": {
      "image/png": "[encoded data removed]",
      "text/plain": [
       "<Figure size 640x480 with 1 Axes>"
      ]
     },
     "metadata": {},
     "output_type": "display_data"
    },
    {
     "name": "stdout",
     "output_type": "stream",
     "text": [
      "==========================================================================================\n"
     ]
    },
    {
     "data": {
      "image/png": "[encoded data removed]",
      "text/plain": [
       "<Figure size 640x480 with 1 Axes>"
      ]
     },
     "metadata": {},
     "output_type": "display_data"
    },
    {
     "name": "stdout",
     "output_type": "stream",
     "text": [
      "==========================================================================================\n"
     ]
    },
    {
     "data": {
      "image/png": "[encoded data removed]",
      "text/plain": [
       "<Figure size 640x480 with 1 Axes>"
      ]
     },
     "metadata": {},
     "output_type": "display_data"
    },
    {
     "name": "stdout",
     "output_type": "stream",
     "text": [
      "==========================================================================================\n"
     ]
    },
    {
     "data": {
      "image/png": "[encoded data removed]",
      "text/plain": [
       "<Figure size 640x480 with 1 Axes>"
      ]
     },
     "metadata": {},
     "output_type": "display_data"
    },
    {
     "name": "stdout",
     "output_type": "stream",
     "text": [
      "==========================================================================================\n"
     ]
    },
    {
     "data": {
      "image/png": "[encoded data removed]",
      "text/plain": [
       "<Figure size 640x480 with 1 Axes>"
      ]
     },
     "metadata": {},
     "output_type": "display_data"
    },
    {
     "name": "stdout",
     "output_type": "stream",
     "text": [
      "==========================================================================================\n"
     ]
    },
    {
     "data": {
      "image/png": "[encoded data removed]",
      "text/plain": [
       "<Figure size 640x480 with 1 Axes>"
      ]
     },
     "metadata": {},
     "output_type": "display_data"
    },
    {
     "name": "stdout",
     "output_type": "stream",
     "text": [
      "==========================================================================================\n"
     ]
    },
    {
     "data": {
      "image/png": "[encoded data removed]",
      "text/plain": [
       "<Figure size 640x480 with 1 Axes>"
      ]
     },
     "metadata": {},
     "output_type": "display_data"
    },
    {
     "name": "stdout",
     "output_type": "stream",
     "text": [
      "==========================================================================================\n"
     ]
    },
    {
     "data": {
      "image/png": "[encoded data removed]",
      "text/plain": [
       "<Figure size 640x480 with 1 Axes>"
      ]
     },
     "metadata": {},
     "output_type": "display_data"
    },
    {
     "name": "stdout",
     "output_type": "stream",
     "text": [
      "==========================================================================================\n"
     ]
    }
   ],
   "source": [
    "# Creating a for loop for count plots of coloumns\n",
    "other_col = ['PhoneService', 'MultipleLines', 'InternetService', 'OnlineSecurity',\n",
    "             'OnlineBackup', 'DeviceProtection', 'TechSupport', 'StreamingTV',\n",
    "            'StreamingMovies', 'Contract', 'PaperlessBilling', 'PaymentMethod']\n",
    "for col in other_col:\n",
    "  sns.set(style='whitegrid')\n",
    "  sns.countplot(data=df, x=col, hue='Churn', palette=custom_palette)\n",
    "  # Adding labels and a title\n",
    "  plt.xlabel(f'{col}')\n",
    "  plt.ylabel('Count')\n",
    "  plt.title(f'Churn by {col}')\n",
    "\n",
    "  # Displaying the plot\n",
    "  plt.legend(title='Churn', loc='upper right')\n",
    "  plt.xticks(rotation=25)\n",
    "  plt.show()\n",
    "  print(\"==========================================================================================\")"
   ]
  },
  {
   "cell_type": "markdown",
   "metadata": {
    "id": "e7oF1rleEeeL"
   },
   "source": [
    "**Observations from the plot above**\n",
    "- People with no internet service are very less likey to churn  \n",
    "- People with no online security are highly likely to churn  \n",
    "- People with no tech support are highly likely to churn  \n",
    "- People who take monthly subscription are prone to churn  \n",
    "- People with 2-year subscription almost never churn  \n",
    "- Poeple who use electronic check are highly likely to churn"
   ]
  },
  {
   "cell_type": "code",
   "execution_count": null,
   "metadata": {
    "id": "i-X9H9jsGCpJ"
   },
   "outputs": [],
   "source": []
  },
  {
   "cell_type": "markdown",
   "metadata": {
    "id": "yWwE99oskTt4"
   },
   "source": [
    "## Feature Importance  \n",
    "Feature importance refers to the quantification of the influence or relevance of each feature in a predictive model or data analysis task.Feature importance can be determined through various techniques, including statistical methods and machine learning algorithms. In this project, we will use mutual information score.  \n",
    "  "
   ]
  },
  {
   "cell_type": "markdown",
   "metadata": {
    "id": "a9u-AAh7msWf"
   },
   "source": [
    "### Mutual Information Score\n",
    "Mutual Information measures the entropy drops under the condition of the target value. The MI score will fall in the range from 0 to ∞. The high value of Mi means a closer connection between the feature and the target indicating feature importance for training the model."
   ]
  },
  {
   "cell_type": "code",
   "execution_count": null,
   "metadata": {
    "colab": {
     "base_uri": "https://localhost:8080/"
    },
    "id": "kuNFbSR-HLsx",
    "outputId": "909c2432-4006-4c71-f25c-f67f908fd6e4"
   },
   "outputs": [
    {
     "name": "stdout",
     "output_type": "stream",
     "text": [
      "Contract            0.098182\n",
      "OnlineSecurity      0.064528\n",
      "TechSupport         0.062873\n",
      "InternetService     0.055394\n",
      "OnlineBackup        0.046659\n",
      "PaymentMethod       0.044423\n",
      "DeviceProtection    0.043784\n",
      "StreamingMovies     0.031918\n",
      "StreamingTV         0.031803\n",
      "PaperlessBilling    0.019119\n",
      "Dependents          0.014270\n",
      "Partner             0.011383\n",
      "MultipleLines       0.000798\n",
      "PhoneService        0.000069\n",
      "Gender              0.000037\n",
      "dtype: float64\n"
     ]
    }
   ],
   "source": [
    "# importing mutual_info_score\n",
    "from sklearn.metrics import mutual_info_score\n",
    "\n",
    "# function that computes the mutual information score between a categorical series and the column Churn\n",
    "def compute_mutual_information(categorical_series):\n",
    "    return mutual_info_score(categorical_series, df['Churn'])\n",
    "\n",
    "# Selecting categorical variables excluding the response variable\n",
    "categorical_variables = df.select_dtypes(include=object).drop('Churn', axis=1)\n",
    "\n",
    "# Computing the mutual information score between each categorical variable and the target\n",
    "feature_importance = categorical_variables.apply(compute_mutual_information).sort_values(ascending=False)\n",
    "\n",
    "# Visualize feature importance\n",
    "print(feature_importance)\n"
   ]
  },
  {
   "cell_type": "markdown",
   "metadata": {
    "id": "adrIqdpim5Ec"
   },
   "source": [
    "**Observations**  \n",
    "- `Gender`, `PhoneService` and `MultipleLines` have almost no  contribution in predicting the label.  \n",
    "- `Contract`, `OnlineSecurity` and `TechSupport` have significant dependency with the label column."
   ]
  },
  {
   "cell_type": "markdown",
   "metadata": {
    "id": "cAabzecFnpld"
   },
   "source": [
    "## Feature Engineering  \n",
    "Feature engineering is the process of extracting features from the data and transforming them into a format that is suitable for the machine learning model. In this project, we need to transform both numerical and categorical variables. Most machine learning algorithms require numerical values; therefore, all categorical attributes available in the dataset should be encoded into numerical labels before training the model. We will also scale the features to make them uniform and avoid biasedness of the model."
   ]
  },
  {
   "cell_type": "markdown",
   "metadata": {
    "id": "s_BxksOZn9yH"
   },
   "source": [
    "### Label Encoding  \n",
    "Label encoding is used to replace categorical values with numerical values. This encoding replaces every category with a numerical label. In this project, we use label encoding for all the categorical features."
   ]
  },
  {
   "cell_type": "code",
   "execution_count": null,
   "metadata": {
    "colab": {
     "base_uri": "https://localhost:8080/"
    },
    "id": "47lwMshesn4_",
    "outputId": "9d39db53-0e23-4414-ef4a-1d842948a851"
   },
   "outputs": [
    {
     "name": "stdout",
     "output_type": "stream",
     "text": [
      "{'Gender': {'Female': 0, 'Male': 1}, 'Partner': {'No': 0, 'Yes': 1}, 'Dependents': {'No': 0, 'Yes': 1}, 'PhoneService': {'No': 0, 'Yes': 1}, 'MultipleLines': {'No': 0, 'No phone service': 1, 'Yes': 2}, 'InternetService': {'DSL': 0, 'Fiber optic': 1, 'No': 2}, 'OnlineSecurity': {'No': 0, 'No internet service': 1, 'Yes': 2}, 'OnlineBackup': {'No': 0, 'No internet service': 1, 'Yes': 2}, 'DeviceProtection': {'No': 0, 'No internet service': 1, 'Yes': 2}, 'TechSupport': {'No': 0, 'No internet service': 1, 'Yes': 2}, 'StreamingTV': {'No': 0, 'No internet service': 1, 'Yes': 2}, 'StreamingMovies': {'No': 0, 'No internet service': 1, 'Yes': 2}, 'Contract': {'Month-to-month': 0, 'One year': 1, 'Two year': 2}, 'PaperlessBilling': {'No': 0, 'Yes': 1}, 'PaymentMethod': {'Bank transfer (automatic)': 0, 'Credit card (automatic)': 1, 'Electronic check': 2, 'Mailed check': 3}, 'Churn': {'No': 0, 'Yes': 1}}\n"
     ]
    }
   ],
   "source": [
    "# Function for Label Encoding\n",
    "from sklearn.preprocessing import LabelEncoder\n",
    "\n",
    "def label_encode(df):\n",
    "    \"\"\"\n",
    "    Args:\n",
    "        df (pd.DataFrame): The input DataFrame containing categorical features.\n",
    "\n",
    "    Returns:\n",
    "        pd.DataFrame: A new DataFrame with categorical features label-encoded.\n",
    "        dict: A dictionary containing mappings of the original values to encoded values for each categorical feature.\n",
    "    \"\"\"\n",
    "    # Identifying categorical columns\n",
    "    categorical_columns = df.select_dtypes(include=['object']).columns.tolist()\n",
    "\n",
    "    # Initializing a dictionary to store mappings\n",
    "    encoding_mappings = {}\n",
    "\n",
    "    # Creating a new DataFrame to store label-encoded values\n",
    "    encoded_df = df.copy()\n",
    "\n",
    "    # Applying label encoding to each categorical column\n",
    "    for col in categorical_columns:\n",
    "        le = LabelEncoder()\n",
    "        encoded_df[col] = le.fit_transform(df[col])\n",
    "        encoding_mappings[col] = dict(zip(le.classes_, le.transform(le.classes_)))\n",
    "\n",
    "    return encoded_df, encoding_mappings\n",
    "\n",
    "# Applying the function on our data\n",
    "encoded_data, encoding_mappings = label_encode(df)\n",
    "print(encoding_mappings)\n"
   ]
  },
  {
   "cell_type": "code",
   "execution_count": null,
   "metadata": {
    "colab": {
     "base_uri": "https://localhost:8080/"
    },
    "id": "SyZjZ6AQthHi",
    "outputId": "f70c86ae-c1a7-4f90-d62f-e857500168f2"
   },
   "outputs": [
    {
     "data": {
      "text/html": [
       "\n",
       "  <div id=\"df-a30c523f-f073-4733-b3f8-7b33da821b49\" class=\"colab-df-container\">\n",
       "    <div>\n",
       "<style scoped>\n",
       "    .dataframe tbody tr th:only-of-type {\n",
       "        vertical-align: middle;\n",
       "    }\n",
       "\n",
       "    .dataframe tbody tr th {\n",
       "        vertical-align: top;\n",
       "    }\n",
       "\n",
       "    .dataframe thead th {\n",
       "        text-align: right;\n",
       "    }\n",
       "</style>\n",
       "<table border=\"1\" class=\"dataframe\">\n",
       "  <thead>\n",
       "    <tr style=\"text-align: right;\">\n",
       "      <th></th>\n",
       "      <th>Gender</th>\n",
       "      <th>SeniorCitizen</th>\n",
       "      <th>Partner</th>\n",
       "      <th>Dependents</th>\n",
       "      <th>Tenure</th>\n",
       "      <th>PhoneService</th>\n",
       "      <th>MultipleLines</th>\n",
       "      <th>InternetService</th>\n",
       "      <th>OnlineSecurity</th>\n",
       "      <th>OnlineBackup</th>\n",
       "      <th>DeviceProtection</th>\n",
       "      <th>TechSupport</th>\n",
       "      <th>StreamingTV</th>\n",
       "      <th>StreamingMovies</th>\n",
       "      <th>Contract</th>\n",
       "      <th>PaperlessBilling</th>\n",
       "      <th>PaymentMethod</th>\n",
       "      <th>MonthlyCharges</th>\n",
       "      <th>TotalCharges</th>\n",
       "      <th>Churn</th>\n",
       "    </tr>\n",
       "  </thead>\n",
       "  <tbody>\n",
       "    <tr>\n",
       "      <th>0</th>\n",
       "      <td>0</td>\n",
       "      <td>0</td>\n",
       "      <td>1</td>\n",
       "      <td>0</td>\n",
       "      <td>1</td>\n",
       "      <td>0</td>\n",
       "      <td>1</td>\n",
       "      <td>0</td>\n",
       "      <td>0</td>\n",
       "      <td>2</td>\n",
       "      <td>0</td>\n",
       "      <td>0</td>\n",
       "      <td>0</td>\n",
       "      <td>0</td>\n",
       "      <td>0</td>\n",
       "      <td>1</td>\n",
       "      <td>2</td>\n",
       "      <td>29.85</td>\n",
       "      <td>29.85</td>\n",
       "      <td>0</td>\n",
       "    </tr>\n",
       "    <tr>\n",
       "      <th>1</th>\n",
       "      <td>1</td>\n",
       "      <td>0</td>\n",
       "      <td>0</td>\n",
       "      <td>0</td>\n",
       "      <td>34</td>\n",
       "      <td>1</td>\n",
       "      <td>0</td>\n",
       "      <td>0</td>\n",
       "      <td>2</td>\n",
       "      <td>0</td>\n",
       "      <td>2</td>\n",
       "      <td>0</td>\n",
       "      <td>0</td>\n",
       "      <td>0</td>\n",
       "      <td>1</td>\n",
       "      <td>0</td>\n",
       "      <td>3</td>\n",
       "      <td>56.95</td>\n",
       "      <td>1889.50</td>\n",
       "      <td>0</td>\n",
       "    </tr>\n",
       "    <tr>\n",
       "      <th>2</th>\n",
       "      <td>1</td>\n",
       "      <td>0</td>\n",
       "      <td>0</td>\n",
       "      <td>0</td>\n",
       "      <td>2</td>\n",
       "      <td>1</td>\n",
       "      <td>0</td>\n",
       "      <td>0</td>\n",
       "      <td>2</td>\n",
       "      <td>2</td>\n",
       "      <td>0</td>\n",
       "      <td>0</td>\n",
       "      <td>0</td>\n",
       "      <td>0</td>\n",
       "      <td>0</td>\n",
       "      <td>1</td>\n",
       "      <td>3</td>\n",
       "      <td>53.85</td>\n",
       "      <td>108.15</td>\n",
       "      <td>1</td>\n",
       "    </tr>\n",
       "    <tr>\n",
       "      <th>3</th>\n",
       "      <td>1</td>\n",
       "      <td>0</td>\n",
       "      <td>0</td>\n",
       "      <td>0</td>\n",
       "      <td>45</td>\n",
       "      <td>0</td>\n",
       "      <td>1</td>\n",
       "      <td>0</td>\n",
       "      <td>2</td>\n",
       "      <td>0</td>\n",
       "      <td>2</td>\n",
       "      <td>2</td>\n",
       "      <td>0</td>\n",
       "      <td>0</td>\n",
       "      <td>1</td>\n",
       "      <td>0</td>\n",
       "      <td>0</td>\n",
       "      <td>42.30</td>\n",
       "      <td>1840.75</td>\n",
       "      <td>0</td>\n",
       "    </tr>\n",
       "    <tr>\n",
       "      <th>4</th>\n",
       "      <td>0</td>\n",
       "      <td>0</td>\n",
       "      <td>0</td>\n",
       "      <td>0</td>\n",
       "      <td>2</td>\n",
       "      <td>1</td>\n",
       "      <td>0</td>\n",
       "      <td>1</td>\n",
       "      <td>0</td>\n",
       "      <td>0</td>\n",
       "      <td>0</td>\n",
       "      <td>0</td>\n",
       "      <td>0</td>\n",
       "      <td>0</td>\n",
       "      <td>0</td>\n",
       "      <td>1</td>\n",
       "      <td>2</td>\n",
       "      <td>70.70</td>\n",
       "      <td>151.65</td>\n",
       "      <td>1</td>\n",
       "    </tr>\n",
       "  </tbody>\n",
       "</table>\n",
       "</div>\n",
       "    <div class=\"colab-df-buttons\">\n",
       "\n",
       "  <div class=\"colab-df-container\">\n",
       "    <button class=\"colab-df-convert\" onclick=\"convertToInteractive('df-a30c523f-f073-4733-b3f8-7b33da821b49')\"\n",
       "            title=\"Convert this dataframe to an interactive table.\"\n",
       "            style=\"display:none;\">\n",
       "\n",
       "  <svg xmlns=\"http://www.w3.org/2000/svg\" height=\"24px\" viewBox=\"0 -960 960 960\">\n",
       "    <path d=\"M120-120v-720h720v720H120Zm60-500h600v-160H180v160Zm220 220h160v-160H400v160Zm0 220h160v-160H400v160ZM180-400h160v-160H180v160Zm440 0h160v-160H620v160ZM180-180h160v-160H180v160Zm440 0h160v-160H620v160Z\"/>\n",
       "  </svg>\n",
       "    </button>\n",
       "\n",
       "  <style>\n",
       "    .colab-df-container {\n",
       "      display:flex;\n",
       "      gap: 12px;\n",
       "    }\n",
       "\n",
       "    .colab-df-convert {\n",
       "      background-color: #E8F0FE;\n",
       "      border: none;\n",
       "      border-radius: 50%;\n",
       "      cursor: pointer;\n",
       "      display: none;\n",
       "      fill: #1967D2;\n",
       "      height: 32px;\n",
       "      padding: 0 0 0 0;\n",
       "      width: 32px;\n",
       "    }\n",
       "\n",
       "    .colab-df-convert:hover {\n",
       "      background-color: #E2EBFA;\n",
       "      box-shadow: 0px 1px 2px rgba(60, 64, 67, 0.3), 0px 1px 3px 1px rgba(60, 64, 67, 0.15);\n",
       "      fill: #174EA6;\n",
       "    }\n",
       "\n",
       "    .colab-df-buttons div {\n",
       "      margin-bottom: 4px;\n",
       "    }\n",
       "\n",
       "    [theme=dark] .colab-df-convert {\n",
       "      background-color: #3B4455;\n",
       "      fill: #D2E3FC;\n",
       "    }\n",
       "\n",
       "    [theme=dark] .colab-df-convert:hover {\n",
       "      background-color: #434B5C;\n",
       "      box-shadow: 0px 1px 3px 1px rgba(0, 0, 0, 0.15);\n",
       "      filter: drop-shadow(0px 1px 2px rgba(0, 0, 0, 0.3));\n",
       "      fill: #FFFFFF;\n",
       "    }\n",
       "  </style>\n",
       "\n",
       "    <script>\n",
       "      const buttonEl =\n",
       "        document.querySelector('#df-a30c523f-f073-4733-b3f8-7b33da821b49 button.colab-df-convert');\n",
       "      buttonEl.style.display =\n",
       "        google.colab.kernel.accessAllowed ? 'block' : 'none';\n",
       "\n",
       "      async function convertToInteractive(key) {\n",
       "        const element = document.querySelector('#df-a30c523f-f073-4733-b3f8-7b33da821b49');\n",
       "        const dataTable =\n",
       "          await google.colab.kernel.invokeFunction('convertToInteractive',\n",
       "                                                    [key], {});\n",
       "        if (!dataTable) return;\n",
       "\n",
       "        const docLinkHtml = 'Like what you see? Visit the ' +\n",
       "          '<a target=\"_blank\" href=https://colab.research.google.com/notebooks/data_table.ipynb>data table notebook</a>'\n",
       "          + ' to learn more about interactive tables.';\n",
       "        element.innerHTML = '';\n",
       "        dataTable['output_type'] = 'display_data';\n",
       "        await google.colab.output.renderOutput(dataTable, element);\n",
       "        const docLink = document.createElement('div');\n",
       "        docLink.innerHTML = docLinkHtml;\n",
       "        element.appendChild(docLink);\n",
       "      }\n",
       "    </script>\n",
       "  </div>\n",
       "\n",
       "\n",
       "<div id=\"df-6f8050df-68a9-4364-ab1e-39a8ec2c93b9\">\n",
       "  <button class=\"colab-df-quickchart\" onclick=\"quickchart('df-6f8050df-68a9-4364-ab1e-39a8ec2c93b9')\"\n",
       "            title=\"Suggest charts.\"\n",
       "            style=\"display:none;\">\n",
       "\n",
       "<svg xmlns=\"http://www.w3.org/2000/svg\" height=\"24px\"viewBox=\"0 0 24 24\"\n",
       "     width=\"24px\">\n",
       "    <g>\n",
       "        <path d=\"M19 3H5c-1.1 0-2 .9-2 2v14c0 1.1.9 2 2 2h14c1.1 0 2-.9 2-2V5c0-1.1-.9-2-2-2zM9 17H7v-7h2v7zm4 0h-2V7h2v10zm4 0h-2v-4h2v4z\"/>\n",
       "    </g>\n",
       "</svg>\n",
       "  </button>\n",
       "\n",
       "<style>\n",
       "  .colab-df-quickchart {\n",
       "      --bg-color: #E8F0FE;\n",
       "      --fill-color: #1967D2;\n",
       "      --hover-bg-color: #E2EBFA;\n",
       "      --hover-fill-color: #174EA6;\n",
       "      --disabled-fill-color: #AAA;\n",
       "      --disabled-bg-color: #DDD;\n",
       "  }\n",
       "\n",
       "  [theme=dark] .colab-df-quickchart {\n",
       "      --bg-color: #3B4455;\n",
       "      --fill-color: #D2E3FC;\n",
       "      --hover-bg-color: #434B5C;\n",
       "      --hover-fill-color: #FFFFFF;\n",
       "      --disabled-bg-color: #3B4455;\n",
       "      --disabled-fill-color: #666;\n",
       "  }\n",
       "\n",
       "  .colab-df-quickchart {\n",
       "    background-color: var(--bg-color);\n",
       "    border: none;\n",
       "    border-radius: 50%;\n",
       "    cursor: pointer;\n",
       "    display: none;\n",
       "    fill: var(--fill-color);\n",
       "    height: 32px;\n",
       "    padding: 0;\n",
       "    width: 32px;\n",
       "  }\n",
       "\n",
       "  .colab-df-quickchart:hover {\n",
       "    background-color: var(--hover-bg-color);\n",
       "    box-shadow: 0 1px 2px rgba(60, 64, 67, 0.3), 0 1px 3px 1px rgba(60, 64, 67, 0.15);\n",
       "    fill: var(--button-hover-fill-color);\n",
       "  }\n",
       "\n",
       "  .colab-df-quickchart-complete:disabled,\n",
       "  .colab-df-quickchart-complete:disabled:hover {\n",
       "    background-color: var(--disabled-bg-color);\n",
       "    fill: var(--disabled-fill-color);\n",
       "    box-shadow: none;\n",
       "  }\n",
       "\n",
       "  .colab-df-spinner {\n",
       "    border: 2px solid var(--fill-color);\n",
       "    border-color: transparent;\n",
       "    border-bottom-color: var(--fill-color);\n",
       "    animation:\n",
       "      spin 1s steps(1) infinite;\n",
       "  }\n",
       "\n",
       "  @keyframes spin {\n",
       "    0% {\n",
       "      border-color: transparent;\n",
       "      border-bottom-color: var(--fill-color);\n",
       "      border-left-color: var(--fill-color);\n",
       "    }\n",
       "    20% {\n",
       "      border-color: transparent;\n",
       "      border-left-color: var(--fill-color);\n",
       "      border-top-color: var(--fill-color);\n",
       "    }\n",
       "    30% {\n",
       "      border-color: transparent;\n",
       "      border-left-color: var(--fill-color);\n",
       "      border-top-color: var(--fill-color);\n",
       "      border-right-color: var(--fill-color);\n",
       "    }\n",
       "    40% {\n",
       "      border-color: transparent;\n",
       "      border-right-color: var(--fill-color);\n",
       "      border-top-color: var(--fill-color);\n",
       "    }\n",
       "    60% {\n",
       "      border-color: transparent;\n",
       "      border-right-color: var(--fill-color);\n",
       "    }\n",
       "    80% {\n",
       "      border-color: transparent;\n",
       "      border-right-color: var(--fill-color);\n",
       "      border-bottom-color: var(--fill-color);\n",
       "    }\n",
       "    90% {\n",
       "      border-color: transparent;\n",
       "      border-bottom-color: var(--fill-color);\n",
       "    }\n",
       "  }\n",
       "</style>\n",
       "\n",
       "  <script>\n",
       "    async function quickchart(key) {\n",
       "      const quickchartButtonEl =\n",
       "        document.querySelector('#' + key + ' button');\n",
       "      quickchartButtonEl.disabled = true;  // To prevent multiple clicks.\n",
       "      quickchartButtonEl.classList.add('colab-df-spinner');\n",
       "      try {\n",
       "        const charts = await google.colab.kernel.invokeFunction(\n",
       "            'suggestCharts', [key], {});\n",
       "      } catch (error) {\n",
       "        console.error('Error during call to suggestCharts:', error);\n",
       "      }\n",
       "      quickchartButtonEl.classList.remove('colab-df-spinner');\n",
       "      quickchartButtonEl.classList.add('colab-df-quickchart-complete');\n",
       "    }\n",
       "    (() => {\n",
       "      let quickchartButtonEl =\n",
       "        document.querySelector('#df-6f8050df-68a9-4364-ab1e-39a8ec2c93b9 button');\n",
       "      quickchartButtonEl.style.display =\n",
       "        google.colab.kernel.accessAllowed ? 'block' : 'none';\n",
       "    })();\n",
       "  </script>\n",
       "</div>\n",
       "    </div>\n",
       "  </div>\n"
      ],
      "text/plain": [
       "   Gender  SeniorCitizen  Partner  Dependents  Tenure  PhoneService  \\\n",
       "0       0              0        1           0       1             0   \n",
       "1       1              0        0           0      34             1   \n",
       "2       1              0        0           0       2             1   \n",
       "3       1              0        0           0      45             0   \n",
       "4       0              0        0           0       2             1   \n",
       "\n",
       "   MultipleLines  InternetService  OnlineSecurity  OnlineBackup  \\\n",
       "0              1                0               0             2   \n",
       "1              0                0               2             0   \n",
       "2              0                0               2             2   \n",
       "3              1                0               2             0   \n",
       "4              0                1               0             0   \n",
       "\n",
       "   DeviceProtection  TechSupport  StreamingTV  StreamingMovies  Contract  \\\n",
       "0                 0            0            0                0         0   \n",
       "1                 2            0            0                0         1   \n",
       "2                 0            0            0                0         0   \n",
       "3                 2            2            0                0         1   \n",
       "4                 0            0            0                0         0   \n",
       "\n",
       "   PaperlessBilling  PaymentMethod  MonthlyCharges  TotalCharges  Churn  \n",
       "0                 1              2           29.85         29.85      0  \n",
       "1                 0              3           56.95       1889.50      0  \n",
       "2                 1              3           53.85        108.15      1  \n",
       "3                 0              0           42.30       1840.75      0  \n",
       "4                 1              2           70.70        151.65      1  "
      ]
     },
     "execution_count": 20,
     "metadata": {},
     "output_type": "execute_result"
    }
   ],
   "source": [
    "df = encoded_data\n",
    "df.head()\n"
   ]
  },
  {
   "cell_type": "markdown",
   "metadata": {
    "id": "9kkrqg7iQZSO"
   },
   "source": [
    "###Splitting the data into Train and Test"
   ]
  },
  {
   "cell_type": "code",
   "execution_count": null,
   "metadata": {
    "colab": {
     "base_uri": "https://localhost:8080/"
    },
    "id": "Tg67jve2QntM",
    "outputId": "60c7c535-6571-49f5-d8c6-b8b6845808e9"
   },
   "outputs": [
    {
     "name": "stdout",
     "output_type": "stream",
     "text": [
      " Shape of Independent Data :(7032, 19)\n",
      " Shape of Label Data :(7032,)\n",
      "Shape of X_train is (5625, 19)\n",
      "Shape of y_train is (5625,)\n",
      "Shape of X_test is (1407, 19)\n",
      "Shape of y_test is (1407,)\n"
     ]
    }
   ],
   "source": [
    "# Separating Independent and Label data\n",
    "X = df.iloc[:,0:-1]\n",
    "y = df.iloc[:,-1]\n",
    "print(f\" Shape of Independent Data :{X.shape}\")\n",
    "print(f\" Shape of Label Data :{y.shape}\")\n",
    "\n",
    "# Splitting the data into training and testing datasets\n",
    "from sklearn.model_selection import train_test_split\n",
    "X_train, X_test, y_train, y_test = train_test_split(X, y, test_size=0.2, random_state=10)\n",
    "print(f\"Shape of X_train is {X_train.shape}\")\n",
    "print(f\"Shape of y_train is {y_train.shape}\")\n",
    "print(f\"Shape of X_test is {X_test.shape}\")\n",
    "print(f\"Shape of y_test is {y_test.shape}\")\n",
    "\n",
    "\n"
   ]
  },
  {
   "cell_type": "markdown",
   "metadata": {
    "id": "1GhGmHjm_jOf"
   },
   "source": [
    "### Standardization"
   ]
  },
  {
   "cell_type": "code",
   "execution_count": null,
   "metadata": {
    "id": "zianpmLAtkOp"
   },
   "outputs": [],
   "source": [
    "# Function to Standardize the data\n",
    "from sklearn.preprocessing import StandardScaler\n",
    "def Standardize(X_train, X_test):\n",
    "  '''\n",
    "   Args:\n",
    "         X_train (Independent Training Dataset)\n",
    "         X_test (Independent Testing Dataset)\n",
    "\n",
    "   Returns:\n",
    "         Array of Standardized X_train\n",
    "         Array of Standardized X_test\n",
    "  '''\n",
    "  scaler = StandardScaler()\n",
    "  scaler.fit(X_train)\n",
    "  X_train = scaler.transform(X_train)\n",
    "  X_test= scaler.transform(X_test)\n",
    "  return X_train, X_test\n"
   ]
  },
  {
   "cell_type": "code",
   "execution_count": null,
   "metadata": {
    "colab": {
     "base_uri": "https://localhost:8080/"
    },
    "id": "60e92TnBVKNO",
    "outputId": "a8f4f7f1-444f-4e91-e58d-6f52333fd37d"
   },
   "outputs": [
    {
     "data": {
      "text/plain": [
       "(array([[ 0.9801089 , -0.44391802, -0.96797907, ...,  0.40577658,\n",
       "          0.86173856, -0.97856887],\n",
       "        [ 0.9801089 , -0.44391802,  1.03308019, ...,  0.40577658,\n",
       "          0.8401349 , -0.23320475],\n",
       "        [ 0.9801089 , -0.44391802,  1.03308019, ...,  0.40577658,\n",
       "          1.07278969,  2.03677987],\n",
       "        ...,\n",
       "        [-1.02029479, -0.44391802,  1.03308019, ...,  0.40577658,\n",
       "         -0.50760104,  0.11027206],\n",
       "        [ 0.9801089 , -0.44391802, -0.96797907, ...,  0.40577658,\n",
       "          0.91657862, -0.81857006],\n",
       "        [ 0.9801089 , -0.44391802,  1.03308019, ..., -1.46819162,\n",
       "          1.53809926,  2.31114567]]),\n",
       " array([[ 0.9801089 , -0.44391802, -0.96797907, ...,  1.34276068,\n",
       "         -1.47810387, -0.73639296],\n",
       "        [-1.02029479, -0.44391802,  1.03308019, ..., -0.53120752,\n",
       "         -1.32687826, -0.20108118],\n",
       "        [-1.02029479, -0.44391802, -0.96797907, ..., -0.53120752,\n",
       "         -0.19351708, -0.67700968],\n",
       "        ...,\n",
       "        [-1.02029479, -0.44391802, -0.96797907, ..., -1.46819162,\n",
       "         -0.17191342,  0.86711046],\n",
       "        [ 0.9801089 , -0.44391802,  1.03308019, ..., -0.53120752,\n",
       "          0.97141867,  1.51570592],\n",
       "        [ 0.9801089 , -0.44391802, -0.96797907, ..., -1.46819162,\n",
       "          0.26182157,  0.41804372]]))"
      ]
     },
     "execution_count": 23,
     "metadata": {},
     "output_type": "execute_result"
    }
   ],
   "source": [
    "X_train, X_test = Standardize(X_train, X_test)\n",
    "X_train, X_test"
   ]
  },
  {
   "cell_type": "markdown",
   "metadata": {
    "id": "A-9bV2FDaHEF"
   },
   "source": [
    "##Training Multiple Models\n",
    " In this step, we will train multiple models and check their performance"
   ]
  },
  {
   "cell_type": "code",
   "execution_count": null,
   "metadata": {
    "id": "0sYnXMFFtQNE"
   },
   "outputs": [],
   "source": [
    "# Creating a function that trains, predicts and returns accuracy, recall confusion matrix\n",
    "from sklearn.metrics import confusion_matrix, accuracy_score, classification_report\n",
    "\n",
    "def Train_Predict(model, X_train, X_test, y_train, y_test):\n",
    "  model.fit(X_train, y_train)\n",
    "  y_pred = model.predict(X_test)\n",
    "\n",
    "  print(f\"Confusuion Matrix\")\n",
    "\n",
    "  cfm = confusion_matrix(y_test,y_pred)\n",
    "  print(cfm)\n",
    "  print(\"===================================================\")\n",
    "  print(\"Classification report\")\n",
    "\n",
    "  print(classification_report(y_test,y_pred))\n",
    "\n",
    "  print(\"====================================================\")\n",
    "  acc = accuracy_score(y_test,y_pred)\n",
    "  print(\"Accuracy of the model: \", acc)\n",
    "\n",
    "  return y_pred\n",
    "\n",
    "\n"
   ]
  },
  {
   "cell_type": "markdown",
   "metadata": {
    "id": "F6rz6gKPsA-W"
   },
   "source": [
    "### Logistic Regression Model"
   ]
  },
  {
   "cell_type": "code",
   "execution_count": null,
   "metadata": {
    "colab": {
     "base_uri": "https://localhost:8080/"
    },
    "id": "pEmL7yt9rATt",
    "outputId": "c0c51d4a-ad6e-4b9e-a604-7f5121305640"
   },
   "outputs": [
    {
     "name": "stdout",
     "output_type": "stream",
     "text": [
      "Confusuion Matrix\n",
      "[[935 111]\n",
      " [151 210]]\n",
      "===================================================\n",
      "Classification report\n",
      "              precision    recall  f1-score   support\n",
      "\n",
      "           0       0.86      0.89      0.88      1046\n",
      "           1       0.65      0.58      0.62       361\n",
      "\n",
      "    accuracy                           0.81      1407\n",
      "   macro avg       0.76      0.74      0.75      1407\n",
      "weighted avg       0.81      0.81      0.81      1407\n",
      "\n",
      "====================================================\n",
      "Accuracy of the model:  0.8137882018479033\n"
     ]
    },
    {
     "data": {
      "text/plain": [
       "array([0, 0, 0, ..., 0, 0, 0])"
      ]
     },
     "execution_count": 25,
     "metadata": {},
     "output_type": "execute_result"
    }
   ],
   "source": [
    "from sklearn.linear_model import LogisticRegression\n",
    "model_LogisticRegression=LogisticRegression()\n",
    "Train_Predict(model_LogisticRegression, X_train, X_test, y_train, y_test)"
   ]
  },
  {
   "cell_type": "markdown",
   "metadata": {
    "id": "xRe0bIDX8jPx"
   },
   "source": [
    "**Observations**  \n",
    "- The base logistic regression model is predicting well on class 0 observations but it is not up to the mark when comes to class 1.  \n",
    "- We will adjust the probability thershold in order to decrease Type-II error."
   ]
  },
  {
   "cell_type": "markdown",
   "metadata": {
    "id": "5WJTAyxLb4Xt"
   },
   "source": [
    "### Decision Tree"
   ]
  },
  {
   "cell_type": "code",
   "execution_count": null,
   "metadata": {
    "colab": {
     "base_uri": "https://localhost:8080/"
    },
    "id": "6IIOZVTdcB1x",
    "outputId": "6fe6459a-66cc-439a-ea01-28476823084c"
   },
   "outputs": [
    {
     "name": "stdout",
     "output_type": "stream",
     "text": [
      "Confusuion Matrix\n",
      "[[824 222]\n",
      " [173 188]]\n",
      "===================================================\n",
      "Classification report\n",
      "              precision    recall  f1-score   support\n",
      "\n",
      "           0       0.83      0.79      0.81      1046\n",
      "           1       0.46      0.52      0.49       361\n",
      "\n",
      "    accuracy                           0.72      1407\n",
      "   macro avg       0.64      0.65      0.65      1407\n",
      "weighted avg       0.73      0.72      0.72      1407\n",
      "\n",
      "====================================================\n",
      "Accuracy of the model:  0.7192608386638237\n"
     ]
    },
    {
     "data": {
      "text/plain": [
       "array([0, 0, 0, ..., 0, 0, 0])"
      ]
     },
     "execution_count": 32,
     "metadata": {},
     "output_type": "execute_result"
    }
   ],
   "source": [
    "from sklearn.tree import DecisionTreeClassifier\n",
    "\n",
    "# Using our function to train predict\n",
    "model_Decision=DecisionTreeClassifier()\n",
    "Train_Predict(model_Decision, X_train, X_test, y_train, y_test)"
   ]
  },
  {
   "cell_type": "markdown",
   "metadata": {
    "id": "StKrWIeKdJFX"
   },
   "source": [
    "### Random Forest"
   ]
  },
  {
   "cell_type": "code",
   "execution_count": null,
   "metadata": {
    "colab": {
     "base_uri": "https://localhost:8080/"
    },
    "id": "or6YUJ6tdLsv",
    "outputId": "2dc986ab-2b26-4d67-91d2-a872b94c64d8"
   },
   "outputs": [
    {
     "name": "stdout",
     "output_type": "stream",
     "text": [
      "Confusuion Matrix\n",
      "[[931 115]\n",
      " [156 205]]\n",
      "===================================================\n",
      "Classification report\n",
      "              precision    recall  f1-score   support\n",
      "\n",
      "           0       0.86      0.89      0.87      1046\n",
      "           1       0.64      0.57      0.60       361\n",
      "\n",
      "    accuracy                           0.81      1407\n",
      "   macro avg       0.75      0.73      0.74      1407\n",
      "weighted avg       0.80      0.81      0.80      1407\n",
      "\n",
      "====================================================\n",
      "Accuracy of the model:  0.8073916133617626\n"
     ]
    },
    {
     "data": {
      "text/plain": [
       "array([0, 0, 0, ..., 0, 0, 0])"
      ]
     },
     "execution_count": 33,
     "metadata": {},
     "output_type": "execute_result"
    }
   ],
   "source": [
    "\n",
    "from sklearn.ensemble import RandomForestClassifier\n",
    "\n",
    "model_Random_Forest=RandomForestClassifier()\n",
    "Train_Predict(model_Random_Forest, X_train, X_test, y_train, y_test)"
   ]
  },
  {
   "cell_type": "markdown",
   "metadata": {
    "id": "ubIeQ7sPegU8"
   },
   "source": [
    "### Support Vector Machine"
   ]
  },
  {
   "cell_type": "code",
   "execution_count": null,
   "metadata": {
    "colab": {
     "base_uri": "https://localhost:8080/"
    },
    "id": "Ih8XACtPekCw",
    "outputId": "04c70ac3-e9ed-4ea8-8819-c73a154d7b5b"
   },
   "outputs": [
    {
     "name": "stdout",
     "output_type": "stream",
     "text": [
      "Confusuion Matrix\n",
      "[[949  97]\n",
      " [169 192]]\n",
      "===================================================\n",
      "Classification report\n",
      "              precision    recall  f1-score   support\n",
      "\n",
      "           0       0.85      0.91      0.88      1046\n",
      "           1       0.66      0.53      0.59       361\n",
      "\n",
      "    accuracy                           0.81      1407\n",
      "   macro avg       0.76      0.72      0.73      1407\n",
      "weighted avg       0.80      0.81      0.80      1407\n",
      "\n",
      "====================================================\n",
      "Accuracy of the model:  0.8109452736318408\n"
     ]
    },
    {
     "data": {
      "text/plain": [
       "array([0, 0, 0, ..., 0, 0, 0])"
      ]
     },
     "execution_count": 34,
     "metadata": {},
     "output_type": "execute_result"
    }
   ],
   "source": [
    "from sklearn.svm import SVC\n",
    "\n",
    "model_SVC=SVC()\n",
    "Train_Predict(model_SVC, X_train, X_test, y_train, y_test)\n"
   ]
  },
  {
   "cell_type": "markdown",
   "metadata": {
    "id": "k8HlC7UKe5jJ"
   },
   "source": [
    "### KNN Classifier"
   ]
  },
  {
   "cell_type": "code",
   "execution_count": null,
   "metadata": {
    "colab": {
     "base_uri": "https://localhost:8080/"
    },
    "id": "l6RBn-uqe_kQ",
    "outputId": "f46549d6-70a2-4120-eb0b-45a611ab335e"
   },
   "outputs": [
    {
     "name": "stdout",
     "output_type": "stream",
     "text": [
      "Confusuion Matrix\n",
      "[[875 171]\n",
      " [156 205]]\n",
      "===================================================\n",
      "Classification report\n",
      "              precision    recall  f1-score   support\n",
      "\n",
      "           0       0.85      0.84      0.84      1046\n",
      "           1       0.55      0.57      0.56       361\n",
      "\n",
      "    accuracy                           0.77      1407\n",
      "   macro avg       0.70      0.70      0.70      1407\n",
      "weighted avg       0.77      0.77      0.77      1407\n",
      "\n",
      "====================================================\n",
      "Accuracy of the model:  0.767590618336887\n"
     ]
    },
    {
     "data": {
      "text/plain": [
       "array([0, 0, 0, ..., 0, 0, 0])"
      ]
     },
     "execution_count": 35,
     "metadata": {},
     "output_type": "execute_result"
    }
   ],
   "source": [
    "from sklearn.neighbors import KNeighborsClassifier\n",
    "\n",
    "model_KNN=KNeighborsClassifier()\n",
    "Train_Predict(model_KNN, X_train, X_test, y_train, y_test)"
   ]
  },
  {
   "cell_type": "markdown",
   "metadata": {
    "id": "wqNnLGnUjFn6"
   },
   "source": [
    "### Gradient Boosting Classifier"
   ]
  },
  {
   "cell_type": "code",
   "execution_count": null,
   "metadata": {
    "colab": {
     "base_uri": "https://localhost:8080/"
    },
    "id": "7WqowOecjE3Y",
    "outputId": "540e8410-b2f1-4305-9686-741cd046749b"
   },
   "outputs": [
    {
     "name": "stdout",
     "output_type": "stream",
     "text": [
      "Confusuion Matrix\n",
      "[[938 108]\n",
      " [158 203]]\n",
      "===================================================\n",
      "Classification report\n",
      "              precision    recall  f1-score   support\n",
      "\n",
      "           0       0.86      0.90      0.88      1046\n",
      "           1       0.65      0.56      0.60       361\n",
      "\n",
      "    accuracy                           0.81      1407\n",
      "   macro avg       0.75      0.73      0.74      1407\n",
      "weighted avg       0.80      0.81      0.81      1407\n",
      "\n",
      "====================================================\n",
      "Accuracy of the model:  0.8109452736318408\n"
     ]
    },
    {
     "data": {
      "text/plain": [
       "array([0, 0, 0, ..., 0, 0, 0])"
      ]
     },
     "execution_count": 37,
     "metadata": {},
     "output_type": "execute_result"
    }
   ],
   "source": [
    "from sklearn.ensemble import GradientBoostingClassifier\n",
    "\n",
    "model_GradientBoost=GradientBoostingClassifier()\n",
    "Train_Predict(model_GradientBoost, X_train, X_test, y_train, y_test)"
   ]
  },
  {
   "cell_type": "markdown",
   "metadata": {
    "id": "UIEkxfl71_tY"
   },
   "source": [
    "### Evaluation Metrics Table\n",
    "\n"
   ]
  },
  {
   "cell_type": "markdown",
   "metadata": {
    "id": "raWXVTyb2gCA"
   },
   "source": [
    "<head>\n",
    "\t<title>Metrics Summary</title>\n",
    "\t<style>\n",
    "\t\ttable td {\n",
    "\t\t\ttext-align:center;\n",
    "\t\t}\n",
    "\t</style>\n",
    "</head>\n",
    "<body>\n",
    "\t<table>\n",
    "\t\t<thead>\n",
    "\t\t\t<tr>\n",
    "                <th><u>Metrics</u></th>\n",
    "                <th><u>Classes</u></th>\n",
    "\t\t\t\t<th>LogisticRegression</th>\n",
    "\t\t\t\t<th>DecisionTree</th>\n",
    "                <th>RandomForest</th>\n",
    "                <th>SVC</th>\n",
    "                <th>KNN</th>\n",
    "                <th>GradientBoosting</th>\n",
    "\t\t\t</tr>\n",
    "\t\t</thead>\n",
    "\t\t<tbody>\n",
    "\t\t\t<tr>\n",
    "\t\t\t\t<td>Accuracy</td>\n",
    "\t\t\t\t<td>-</td>\n",
    "\t\t\t\t<td>81.37%</td>\n",
    "\t\t\t\t<td>71.00%</td>\n",
    "\t\t\t\t<td>80.70%</td>\n",
    "\t\t\t\t<td>81.00%</td>\n",
    "\t\t\t\t<td>76.70%</td>\n",
    "                <td>81.09%</td>\n",
    "\t\t\t</tr>\n",
    "\t\t\t<tr>\n",
    "\t\t\t\t<td>Precision</td>\n",
    "\t\t\t\t<td>class 0</td>\n",
    "\t\t\t\t<td>0.86</td>\n",
    "\t\t\t\t<td>0.83</td>\n",
    "\t\t\t\t<td>0.86</td>\n",
    "\t\t\t\t<td>0.85</td>\n",
    "\t\t\t\t<td>0.85</td>\n",
    "                <td>0.86</td>\n",
    "\t\t\t</tr>\n",
    "\t\t\t<tr>\n",
    "\t\t\t\t<td>-</td>\n",
    "\t\t\t\t<td>class 1</td>\n",
    "\t\t\t\t<td>0.65</td>\n",
    "\t\t\t\t<td>0.46</td>\n",
    "\t\t\t\t<td>0.64</td>\n",
    "\t\t\t\t<td>0.66</td>\n",
    "\t\t\t\t<td>0.55</td>\n",
    "                <td>0.65</td>\n",
    "\t\t\t</tr>\n",
    "\t\t\t<tr>\n",
    "\t\t\t\t<td>Recall</td>\n",
    "\t\t\t\t<td>class 0</td>\n",
    "\t\t\t\t<td>0.89</td>\n",
    "\t\t\t\t<td>0.79</td>\n",
    "\t\t\t\t<td>0.89</td>\n",
    "\t\t\t\t<td>0.91</td>\n",
    "\t\t\t\t<td>0.84</td>\n",
    "                <td>0.90</td>\n",
    "\t\t\t</tr>\n",
    "\t\t\t<tr>\n",
    "\t\t\t\t<td>-</td>\n",
    "\t\t\t\t<td>class 1</td>\n",
    "\t\t\t\t<td>0.58</td>\n",
    "\t\t\t\t<td>0.52</td>\n",
    "\t\t\t\t<td>0.57</td>\n",
    "\t\t\t\t<td>0.53</td>\n",
    "                <td>0.57</td>\n",
    "                <td>0.56</td>\n",
    "\t\t\t</tr>\n",
    "\t\t\t<tr>\n",
    "\t\t\t\t<td>F1-Score</td>\n",
    "\t\t\t\t<td>class 0</td>\n",
    "\t\t\t\t<td>0.88</td>\n",
    "\t\t\t\t<td>0.81</td>\n",
    "\t\t\t\t<td>0.87</td>\n",
    "\t\t\t\t<td>0.88</td>\n",
    "\t\t\t\t<td>0.84</td>\n",
    "                <td>0.88</td>\n",
    "\t\t\t</tr>\n",
    "\t\t\t<tr>\n",
    "\t\t\t\t<td>-</td>\n",
    "\t\t\t\t<td>class 1</td>\n",
    "\t\t\t\t<td>0.62</td>\n",
    "\t\t\t\t<td>0.49</td>\n",
    "\t\t\t\t<td>0.60</td>\n",
    "\t\t\t\t<td>0.59</td>\n",
    "                <td>0.56</td>\n",
    "                <td>0.60</td>\n",
    "\t\t\t</tr>\n",
    "\t\t</tbody>\n",
    "\t</table>\n",
    "</body>"
   ]
  },
  {
   "cell_type": "markdown",
   "metadata": {
    "id": "boQaur9q3ZDh"
   },
   "source": [
    "**Observation**  \n",
    "- We notice that the Logistic Regression and Grdient Boosting Models are working well on the given data.  \n",
    "- We will now fine tune these two models and see which one works better"
   ]
  },
  {
   "cell_type": "markdown",
   "metadata": {
    "id": "_B3l9Yj3uQmU"
   },
   "source": [
    "## Hyperparameter Tuning"
   ]
  },
  {
   "cell_type": "markdown",
   "metadata": {
    "id": "KEGwHzoN55qi"
   },
   "source": [
    "### Adjustment of Threshold"
   ]
  },
  {
   "cell_type": "code",
   "execution_count": null,
   "metadata": {
    "colab": {
     "base_uri": "https://localhost:8080/"
    },
    "id": "QVxQMHl7zv-f",
    "outputId": "888301f8-750c-44c1-f137-22c18580a9f9"
   },
   "outputs": [
    {
     "data": {
      "text/plain": [
       "array([[0.98416301, 0.01583699],\n",
       "       [0.99742189, 0.00257811],\n",
       "       [0.85382508, 0.14617492],\n",
       "       ...,\n",
       "       [0.99346233, 0.00653767],\n",
       "       [0.8619863 , 0.1380137 ],\n",
       "       [0.75746569, 0.24253431]])"
      ]
     },
     "execution_count": 26,
     "metadata": {},
     "output_type": "execute_result"
    }
   ],
   "source": [
    "# Getting the Probability Matrix\n",
    "y_pred_prob=model_LogisticRegression.predict_proba(X_test)\n",
    "y_pred_prob"
   ]
  },
  {
   "cell_type": "code",
   "execution_count": null,
   "metadata": {
    "colab": {
     "base_uri": "https://localhost:8080/"
    },
    "id": "44OBIRFmxneH",
    "outputId": "eb1ceb04-666e-42f0-d38d-59f9d9722a79"
   },
   "outputs": [
    {
     "name": "stdout",
     "output_type": "stream",
     "text": [
      "Errors at threshold  0.0 : 1046  , type 2 error : 0  , type 1 error: 1046\n",
      "Errors at threshold  0.01 : 931  , type 2 error : 0  , type 1 error: 931\n",
      "Errors at threshold  0.02 : 840  , type 2 error : 0  , type 1 error: 840\n",
      "Errors at threshold  0.03 : 781  , type 2 error : 0  , type 1 error: 781\n",
      "Errors at threshold  0.04 : 732  , type 2 error : 1  , type 1 error: 731\n",
      "Errors at threshold  0.05 : 699  , type 2 error : 2  , type 1 error: 697\n",
      "Errors at threshold  0.06 : 666  , type 2 error : 3  , type 1 error: 663\n",
      "Errors at threshold  0.07 : 647  , type 2 error : 6  , type 1 error: 641\n",
      "Errors at threshold  0.08 : 622  , type 2 error : 6  , type 1 error: 616\n",
      "Errors at threshold  0.09 : 605  , type 2 error : 12  , type 1 error: 593\n",
      "Errors at threshold  0.1 : 585  , type 2 error : 15  , type 1 error: 570\n",
      "Errors at threshold  0.11 : 566  , type 2 error : 18  , type 1 error: 548\n",
      "Errors at threshold  0.12 : 549  , type 2 error : 19  , type 1 error: 530\n",
      "Errors at threshold  0.13 : 538  , type 2 error : 22  , type 1 error: 516\n",
      "Errors at threshold  0.14 : 529  , type 2 error : 23  , type 1 error: 506\n",
      "Errors at threshold  0.15 : 508  , type 2 error : 24  , type 1 error: 484\n",
      "Errors at threshold  0.16 : 490  , type 2 error : 27  , type 1 error: 463\n",
      "Errors at threshold  0.17 : 478  , type 2 error : 29  , type 1 error: 449\n",
      "Errors at threshold  0.18 : 468  , type 2 error : 33  , type 1 error: 435\n",
      "Errors at threshold  0.19 : 456  , type 2 error : 38  , type 1 error: 418\n",
      "Errors at threshold  0.2 : 439  , type 2 error : 40  , type 1 error: 399\n",
      "Errors at threshold  0.21 : 416  , type 2 error : 43  , type 1 error: 373\n",
      "Errors at threshold  0.22 : 403  , type 2 error : 48  , type 1 error: 355\n",
      "Errors at threshold  0.23 : 399  , type 2 error : 51  , type 1 error: 348\n",
      "Errors at threshold  0.24 : 397  , type 2 error : 57  , type 1 error: 340\n",
      "Errors at threshold  0.25 : 385  , type 2 error : 62  , type 1 error: 323\n",
      "Errors at threshold  0.26 : 371  , type 2 error : 65  , type 1 error: 306\n",
      "Errors at threshold  0.27 : 361  , type 2 error : 66  , type 1 error: 295\n",
      "Errors at threshold  0.28 : 353  , type 2 error : 69  , type 1 error: 284\n",
      "Errors at threshold  0.29 : 351  , type 2 error : 73  , type 1 error: 278\n",
      "Errors at threshold  0.3 : 348  , type 2 error : 75  , type 1 error: 273\n",
      "Errors at threshold  0.31 : 347  , type 2 error : 79  , type 1 error: 268\n",
      "Errors at threshold  0.32 : 348  , type 2 error : 87  , type 1 error: 261\n",
      "Errors at threshold  0.33 : 342  , type 2 error : 88  , type 1 error: 254\n",
      "Errors at threshold  0.34 : 339  , type 2 error : 91  , type 1 error: 248\n",
      "Errors at threshold  0.35000000000000003 : 329  , type 2 error : 91  , type 1 error: 238\n",
      "Errors at threshold  0.36 : 318  , type 2 error : 92  , type 1 error: 226\n",
      "Errors at threshold  0.37 : 319  , type 2 error : 96  , type 1 error: 223\n",
      "Errors at threshold  0.38 : 313  , type 2 error : 100  , type 1 error: 213\n",
      "Errors at threshold  0.39 : 303  , type 2 error : 102  , type 1 error: 201\n",
      "Errors at threshold  0.4 : 300  , type 2 error : 109  , type 1 error: 191\n",
      "Errors at threshold  0.41000000000000003 : 300  , type 2 error : 112  , type 1 error: 188\n",
      "Errors at threshold  0.42 : 298  , type 2 error : 119  , type 1 error: 179\n",
      "Errors at threshold  0.43 : 291  , type 2 error : 121  , type 1 error: 170\n",
      "Errors at threshold  0.44 : 288  , type 2 error : 130  , type 1 error: 158\n",
      "Errors at threshold  0.45 : 285  , type 2 error : 133  , type 1 error: 152\n",
      "Errors at threshold  0.46 : 278  , type 2 error : 133  , type 1 error: 145\n",
      "Errors at threshold  0.47000000000000003 : 269  , type 2 error : 135  , type 1 error: 134\n",
      "Errors at threshold  0.48 : 267  , type 2 error : 140  , type 1 error: 127\n",
      "Errors at threshold  0.49 : 270  , type 2 error : 147  , type 1 error: 123\n",
      "Errors at threshold  0.5 : 262  , type 2 error : 151  , type 1 error: 111\n",
      "Errors at threshold  0.51 : 259  , type 2 error : 154  , type 1 error: 105\n",
      "Errors at threshold  0.52 : 260  , type 2 error : 159  , type 1 error: 101\n",
      "Errors at threshold  0.53 : 256  , type 2 error : 161  , type 1 error: 95\n",
      "Errors at threshold  0.54 : 253  , type 2 error : 165  , type 1 error: 88\n",
      "Errors at threshold  0.55 : 254  , type 2 error : 174  , type 1 error: 80\n",
      "Errors at threshold  0.56 : 258  , type 2 error : 181  , type 1 error: 77\n",
      "Errors at threshold  0.5700000000000001 : 264  , type 2 error : 193  , type 1 error: 71\n",
      "Errors at threshold  0.58 : 261  , type 2 error : 196  , type 1 error: 65\n",
      "Errors at threshold  0.59 : 261  , type 2 error : 200  , type 1 error: 61\n",
      "Errors at threshold  0.6 : 265  , type 2 error : 209  , type 1 error: 56\n",
      "Errors at threshold  0.61 : 267  , type 2 error : 215  , type 1 error: 52\n",
      "Errors at threshold  0.62 : 267  , type 2 error : 220  , type 1 error: 47\n",
      "Errors at threshold  0.63 : 270  , type 2 error : 228  , type 1 error: 42\n",
      "Errors at threshold  0.64 : 273  , type 2 error : 236  , type 1 error: 37\n",
      "Errors at threshold  0.65 : 277  , type 2 error : 241  , type 1 error: 36\n",
      "Errors at threshold  0.66 : 280  , type 2 error : 248  , type 1 error: 32\n",
      "Errors at threshold  0.67 : 281  , type 2 error : 255  , type 1 error: 26\n",
      "Errors at threshold  0.68 : 293  , type 2 error : 274  , type 1 error: 19\n",
      "Errors at threshold  0.6900000000000001 : 297  , type 2 error : 280  , type 1 error: 17\n",
      "Errors at threshold  0.7000000000000001 : 301  , type 2 error : 287  , type 1 error: 14\n",
      "Errors at threshold  0.71 : 307  , type 2 error : 294  , type 1 error: 13\n",
      "Errors at threshold  0.72 : 313  , type 2 error : 302  , type 1 error: 11\n",
      "Errors at threshold  0.73 : 321  , type 2 error : 312  , type 1 error: 9\n",
      "Errors at threshold  0.74 : 328  , type 2 error : 320  , type 1 error: 8\n",
      "Errors at threshold  0.75 : 334  , type 2 error : 329  , type 1 error: 5\n",
      "Errors at threshold  0.76 : 342  , type 2 error : 340  , type 1 error: 2\n",
      "Errors at threshold  0.77 : 347  , type 2 error : 345  , type 1 error: 2\n",
      "Errors at threshold  0.78 : 351  , type 2 error : 349  , type 1 error: 2\n",
      "Errors at threshold  0.79 : 350  , type 2 error : 350  , type 1 error: 0\n",
      "Errors at threshold  0.8 : 352  , type 2 error : 352  , type 1 error: 0\n",
      "Errors at threshold  0.81 : 358  , type 2 error : 358  , type 1 error: 0\n",
      "Errors at threshold  0.8200000000000001 : 359  , type 2 error : 359  , type 1 error: 0\n",
      "Errors at threshold  0.8300000000000001 : 359  , type 2 error : 359  , type 1 error: 0\n",
      "Errors at threshold  0.84 : 361  , type 2 error : 361  , type 1 error: 0\n",
      "Errors at threshold  0.85 : 361  , type 2 error : 361  , type 1 error: 0\n",
      "Errors at threshold  0.86 : 361  , type 2 error : 361  , type 1 error: 0\n",
      "Errors at threshold  0.87 : 361  , type 2 error : 361  , type 1 error: 0\n",
      "Errors at threshold  0.88 : 361  , type 2 error : 361  , type 1 error: 0\n",
      "Errors at threshold  0.89 : 361  , type 2 error : 361  , type 1 error: 0\n",
      "Errors at threshold  0.9 : 361  , type 2 error : 361  , type 1 error: 0\n",
      "Errors at threshold  0.91 : 361  , type 2 error : 361  , type 1 error: 0\n",
      "Errors at threshold  0.92 : 361  , type 2 error : 361  , type 1 error: 0\n",
      "Errors at threshold  0.93 : 361  , type 2 error : 361  , type 1 error: 0\n",
      "Errors at threshold  0.9400000000000001 : 361  , type 2 error : 361  , type 1 error: 0\n",
      "Errors at threshold  0.9500000000000001 : 361  , type 2 error : 361  , type 1 error: 0\n",
      "Errors at threshold  0.96 : 361  , type 2 error : 361  , type 1 error: 0\n",
      "Errors at threshold  0.97 : 361  , type 2 error : 361  , type 1 error: 0\n",
      "Errors at threshold  0.98 : 361  , type 2 error : 361  , type 1 error: 0\n",
      "Errors at threshold  0.99 : 361  , type 2 error : 361  , type 1 error: 0\n"
     ]
    }
   ],
   "source": [
    "# Getting Type-I and Type-II errors for across all thresholds\n",
    "for a in np.arange(0.0,1.0,0.01):\n",
    "    predict_mine = np.where(y_pred_prob[:,1] > a, 1, 0)\n",
    "    cfm=confusion_matrix(y_test, predict_mine)\n",
    "    total_err=cfm[0,1]+cfm[1,0]\n",
    "    print(\"Errors at threshold \", a, \":\",total_err, \" , type 2 error :\",\n",
    "          cfm[1,0],\" , type 1 error:\", cfm[0,1])"
   ]
  },
  {
   "cell_type": "code",
   "execution_count": null,
   "metadata": {
    "id": "M0S5T3UQ0vgW"
   },
   "outputs": [],
   "source": [
    "# Adjusting the threshold to 0.45\n",
    "y_pred_class = []\n",
    "for value in y_pred_prob[:,1]:\n",
    "    if value > 0.45:\n",
    "        y_pred_class.append(1)\n",
    "    else:\n",
    "        y_pred_class.append(0)"
   ]
  },
  {
   "cell_type": "code",
   "execution_count": null,
   "metadata": {
    "colab": {
     "base_uri": "https://localhost:8080/"
    },
    "id": "WjOBVud35UJv",
    "outputId": "92e79f14-b574-4d31-d688-9a2f70fb7846"
   },
   "outputs": [
    {
     "name": "stdout",
     "output_type": "stream",
     "text": [
      "Confusuion Matrix\n",
      "[[894 152]\n",
      " [133 228]]\n",
      "===================================================\n",
      "Classification report\n",
      "              precision    recall  f1-score   support\n",
      "\n",
      "           0       0.87      0.85      0.86      1046\n",
      "           1       0.60      0.63      0.62       361\n",
      "\n",
      "    accuracy                           0.80      1407\n",
      "   macro avg       0.74      0.74      0.74      1407\n",
      "weighted avg       0.80      0.80      0.80      1407\n",
      "\n",
      "====================================================\n",
      "Accuracy of the model:  0.7974413646055437\n"
     ]
    }
   ],
   "source": [
    "# Getting Accuracy, Recall for 0.45\n",
    "print(f\"Confusuion Matrix\")\n",
    "\n",
    "cfm = confusion_matrix(y_test,y_pred_class)\n",
    "print(cfm)\n",
    "print(\"===================================================\")\n",
    "print(\"Classification report\")\n",
    "\n",
    "print(classification_report(y_test,y_pred_class))\n",
    "\n",
    "print(\"====================================================\")\n",
    "acc = accuracy_score(y_test,y_pred_class)\n",
    "print(\"Accuracy of the model: \", acc)"
   ]
  },
  {
   "cell_type": "markdown",
   "metadata": {
    "id": "V8krO8ww72jr"
   },
   "source": [
    "**Observations**  \n",
    "- After adjusting the theroshold, the recall value for class 1 has gone up very slightly.  \n",
    "- The improvement is not significant, we will proceed to try some other Algorithms."
   ]
  },
  {
   "cell_type": "markdown",
   "metadata": {
    "id": "diRsNMyFwqCL"
   },
   "source": [
    "### Randomized SearchCV\n",
    " Randomized Search CV randomly samples a defined number of hyperparameter combinations from a given search space. This is in contrast to Grid Search, which explores all possible combinations.  \n",
    " It is a valuable tool for hyperparameter optimization, especially when computational resources are limited or when you want to quickly identify reasonable hyperparameter configurations.\n"
   ]
  },
  {
   "cell_type": "code",
   "execution_count": null,
   "metadata": {
    "id": "XMYnY3jBighh"
   },
   "outputs": [],
   "source": [
    "import warnings\n",
    "warnings.filterwarnings(\"ignore\")\n",
    "from sklearn.model_selection import RandomizedSearchCV\n",
    "import warnings\n",
    "warnings.filterwarnings(\"ignore\")\n",
    "\n",
    "# define the parameter grid\n",
    "grid_parameters = {'n_estimators': [80, 90, 100, 110, 115, 120],\n",
    "                   'max_depth': [3, 4, 5, 6],\n",
    "                   'max_features': [None, 'auto', 'sqrt', 'log2'],\n",
    "                   'min_samples_split': [2, 3, 4, 5]}\n",
    "\n",
    "\n",
    "# define the RandomizedSearchCV class for trying different parameter combinations\n",
    "random_search = RandomizedSearchCV(estimator=GradientBoostingClassifier(),\n",
    "                                   param_distributions=grid_parameters,\n",
    "                                   cv=5,\n",
    "                                   n_iter=150,\n",
    "                                   n_jobs=-1)\n",
    "\n",
    "# fitting the model for random search\n",
    "random_search.fit(X_train, y_train)"
   ]
  },
  {
   "cell_type": "code",
   "execution_count": null,
   "metadata": {
    "colab": {
     "base_uri": "https://localhost:8080/"
    },
    "id": "wHBowPVbljJh",
    "outputId": "95bc7fcd-bd9a-43d0-9bc2-ccee39ed101e"
   },
   "outputs": [
    {
     "name": "stdout",
     "output_type": "stream",
     "text": [
      "{'n_estimators': 100, 'min_samples_split': 4, 'max_features': 'auto', 'max_depth': 3}\n"
     ]
    }
   ],
   "source": [
    "# print best parameter after tuning\n",
    "print(random_search.best_params_)"
   ]
  },
  {
   "cell_type": "markdown",
   "metadata": {
    "id": "vVZDrsaFwziR"
   },
   "source": [
    "### Gradient Boosting using Randomized SearchCV"
   ]
  },
  {
   "cell_type": "code",
   "execution_count": null,
   "metadata": {
    "colab": {
     "base_uri": "https://localhost:8080/"
    },
    "id": "mtTsq7DWlj2Y",
    "outputId": "781d438a-1259-47bb-e378-aee615fd41e1"
   },
   "outputs": [
    {
     "name": "stdout",
     "output_type": "stream",
     "text": [
      "Confusuion Matrix\n",
      "[[939 107]\n",
      " [159 202]]\n",
      "===================================================\n",
      "Classification report\n",
      "              precision    recall  f1-score   support\n",
      "\n",
      "           0       0.86      0.90      0.88      1046\n",
      "           1       0.65      0.56      0.60       361\n",
      "\n",
      "    accuracy                           0.81      1407\n",
      "   macro avg       0.75      0.73      0.74      1407\n",
      "weighted avg       0.80      0.81      0.81      1407\n",
      "\n",
      "====================================================\n",
      "Accuracy of the model:  0.8109452736318408\n"
     ]
    },
    {
     "data": {
      "text/plain": [
       "array([0, 0, 0, ..., 0, 0, 0])"
      ]
     },
     "execution_count": 42,
     "metadata": {},
     "output_type": "execute_result"
    }
   ],
   "source": [
    "from sklearn.ensemble import GradientBoostingClassifier\n",
    "\n",
    "model_GradientBoost=GradientBoostingClassifier(n_estimators=100, min_samples_split=4, max_features=\"auto\", max_depth=3)\n",
    "Train_Predict(model_GradientBoost, X_train, X_test, y_train, y_test)"
   ]
  },
  {
   "cell_type": "markdown",
   "metadata": {
    "id": "GAxjNkODn4iT"
   },
   "source": [
    "### SMOTE  \n",
    "SMOTE, short for \"Synthetic Minority Over-sampling Technique  is a valuable technique for handling class imbalance in classification problems by generating synthetic samples for the minority class, improving the overall balance of the dataset, and enhancing the model's ability to correctly classify minority class instances."
   ]
  },
  {
   "cell_type": "code",
   "execution_count": null,
   "metadata": {
    "colab": {
     "base_uri": "https://localhost:8080/"
    },
    "id": "peU7vxtin3rT",
    "outputId": "c6ccd386-ec8d-4c83-ec34-b9ddb98638ce"
   },
   "outputs": [
    {
     "name": "stdout",
     "output_type": "stream",
     "text": [
      "Before OverSampling, counts of label '1':  1508\n",
      "Before OverSampling, counts of label '0':  4117\n",
      "After OverSampling, the shape of train_X:  (8234, 19)\n",
      "After OverSampling, the shape of train_y:  (8234,)\n",
      "After OverSampling, counts of label '1':  4117\n",
      "After OverSampling, counts of label '0':  4117\n"
     ]
    }
   ],
   "source": [
    "print(\"Before OverSampling, counts of label '1': \", (sum(y_train == 1)))\n",
    "print(\"Before OverSampling, counts of label '0': \", (sum(y_train == 0)))\n",
    "\n",
    "# import SMOTE from imblearn library\n",
    "from imblearn.over_sampling import SMOTE\n",
    "sm = SMOTE(random_state = 10,k_neighbors=5)\n",
    "X_train_res, y_train_res = sm.fit_resample(X_train, y_train)\n",
    "\n",
    "print('After OverSampling, the shape of train_X: ', (X_train_res.shape))\n",
    "print('After OverSampling, the shape of train_y: ', (y_train_res.shape))\n",
    "\n",
    "print(\"After OverSampling, counts of label '1': \", (sum(y_train_res == 1)))\n",
    "print(\"After OverSampling, counts of label '0': \", (sum(y_train_res == 0)))"
   ]
  },
  {
   "cell_type": "markdown",
   "metadata": {
    "id": "-WTA2AvDxAsn"
   },
   "source": [
    "### Logistic Regression using SMOTE"
   ]
  },
  {
   "cell_type": "code",
   "execution_count": null,
   "metadata": {
    "colab": {
     "base_uri": "https://localhost:8080/"
    },
    "id": "qeJs2kKbonGH",
    "outputId": "56a9520b-65f7-4a94-85ed-2200ed8cbe57"
   },
   "outputs": [
    {
     "name": "stdout",
     "output_type": "stream",
     "text": [
      "Confusuion Matrix\n",
      "[[757 289]\n",
      " [ 71 290]]\n",
      "===================================================\n",
      "Classification report\n",
      "              precision    recall  f1-score   support\n",
      "\n",
      "           0       0.91      0.72      0.81      1046\n",
      "           1       0.50      0.80      0.62       361\n",
      "\n",
      "    accuracy                           0.74      1407\n",
      "   macro avg       0.71      0.76      0.71      1407\n",
      "weighted avg       0.81      0.74      0.76      1407\n",
      "\n",
      "====================================================\n",
      "Accuracy of the model:  0.744136460554371\n"
     ]
    },
    {
     "data": {
      "text/plain": [
       "array([0, 0, 0, ..., 0, 0, 0])"
      ]
     },
     "execution_count": 44,
     "metadata": {},
     "output_type": "execute_result"
    }
   ],
   "source": [
    "model_LogisticRegression=LogisticRegression()\n",
    "Train_Predict(model_LogisticRegression, X_train_res, X_test, y_train_res, y_test)"
   ]
  },
  {
   "cell_type": "markdown",
   "metadata": {
    "id": "PYGS75ulxIXj"
   },
   "source": [
    "### Gradient Boost using SMOTE and Randomized SearchCV"
   ]
  },
  {
   "cell_type": "code",
   "execution_count": null,
   "metadata": {
    "colab": {
     "base_uri": "https://localhost:8080/"
    },
    "id": "NatpQVlKpKVw",
    "outputId": "5f0e139a-6004-460b-bb3b-3d1251e3fa1b"
   },
   "outputs": [
    {
     "name": "stdout",
     "output_type": "stream",
     "text": [
      "Confusuion Matrix\n",
      "[[846 200]\n",
      " [104 257]]\n",
      "===================================================\n",
      "Classification report\n",
      "              precision    recall  f1-score   support\n",
      "\n",
      "           0       0.89      0.81      0.85      1046\n",
      "           1       0.56      0.71      0.63       361\n",
      "\n",
      "    accuracy                           0.78      1407\n",
      "   macro avg       0.73      0.76      0.74      1407\n",
      "weighted avg       0.81      0.78      0.79      1407\n",
      "\n",
      "====================================================\n",
      "Accuracy of the model:  0.7839374555792467\n"
     ]
    },
    {
     "data": {
      "text/plain": [
       "array([0, 0, 0, ..., 0, 0, 0])"
      ]
     },
     "execution_count": 45,
     "metadata": {},
     "output_type": "execute_result"
    }
   ],
   "source": [
    "model_GradientBoost=GradientBoostingClassifier(n_estimators=100, min_samples_split=4, max_features=\"auto\", max_depth=3)\n",
    "Train_Predict(model_GradientBoost, X_train_res, X_test, y_train_res, y_test)"
   ]
  },
  {
   "cell_type": "markdown",
   "metadata": {
    "id": "LrZ9QvSz40ih"
   },
   "source": [
    "## Drawing Conclusion\n",
    "- We conclude that the **Gradient Boosting Classifier** with **SMOTE** and **Hyperparameter tuning** works very well on the given data.  \n",
    "- Finally our model is ready to be saved and **Productionized**  \n",
    "- Please note that the steps of a Machine Learning Project Vary project to project"
   ]
  },
  {
   "cell_type": "markdown",
   "metadata": {
    "id": "fQ-3TuOq7PGb"
   },
   "source": [
    ">>>> # End of the Project"
   ]
  },
  {
   "cell_type": "markdown",
   "metadata": {
    "id": "oZhjyen-jTSc"
   },
   "source": [
    "\n",
    ">>>> # Thank You!\n",
    "\n"
   ]
  }
 ],
 "metadata": {
  "colab": {
   "collapsed_sections": [
    "iuvECaTqonNj",
    "bUM12_tYppYS",
    "ZTCYVl69s030",
    "9_Dap5JIts7w",
    "SNguLrSlWHaP",
    "pcE3mJDBWjiF",
    "mqddbFsPexEj",
    "JzT2pzph82ip",
    "K0fF-wj69qDv",
    "a9u-AAh7msWf",
    "cAabzecFnpld",
    "s_BxksOZn9yH",
    "9kkrqg7iQZSO",
    "1GhGmHjm_jOf",
    "A-9bV2FDaHEF",
    "F6rz6gKPsA-W",
    "5WJTAyxLb4Xt",
    "StKrWIeKdJFX",
    "ubIeQ7sPegU8",
    "k8HlC7UKe5jJ",
    "wqNnLGnUjFn6",
    "KEGwHzoN55qi",
    "diRsNMyFwqCL",
    "vVZDrsaFwziR",
    "GAxjNkODn4iT",
    "-WTA2AvDxAsn",
    "PYGS75ulxIXj"
   ],
   "provenance": []
  },
  "kernelspec": {
   "display_name": "Python 3",
   "language": "python",
   "name": "python3"
  },
  "language_info": {
   "codemirror_mode": {
    "name": "ipython",
    "version": 3
   },
   "file_extension": ".py",
   "mimetype": "text/x-python",
   "name": "python",
   "nbconvert_exporter": "python",
   "pygments_lexer": "ipython3",
   "version": "3.7.6"
  }
 },
 "nbformat": 4,
 "nbformat_minor": 1
}
